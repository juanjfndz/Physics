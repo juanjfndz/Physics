{
 "cells": [
  {
   "cell_type": "markdown",
   "id": "40fa31f1",
   "metadata": {},
   "source": [
    "# 2.2 Circuit Operations - Duo Qubits\n",
    "\n",
    "In quantum computing, circuits are composed of quantum gates that operate on qubits, the fundamental units of quantum information. While single-qubit operations are crucial for manipulating individual qubits, duo qubit operations play an equally important role in quantum circuits. These operations involve interactions and transformations between pairs of qubits, enabling the creation of entanglement and facilitating more complex quantum computations.\n",
    "\n",
    "In this section, we will explore various duo qubit gates commonly used in quantum computing. We will delve into their mathematical representations, actions on quantum states, and their significance in quantum algorithms and error correction.\n",
    "\n",
    "The gates we will discuss include:\n",
    "\n",
    "1. Controlled Pauli Gates: The controlled Pauli gates, such as the controlled-X (CNOT), controlled-Y, and controlled-Z gates, are two-qubit gates that apply specific Pauli gate operations on a target qubit conditioned on the state of a control qubit. These gates allow for controlled bit flips, phase flips, and phase shifts based on the control qubit's state.\n",
    "\n",
    "2. Controlled Hadamard Gate: The controlled Hadamard gate applies a Hadamard gate operation on the target qubit if and only if the control qubit is in the state |1⟩. It enables controlled superposition and entanglement generation between qubits.\n",
    "\n",
    "3. Controlled Rotation Gates: Controlled rotation gates, such as the controlled Z-rotation gate and controlled U-rotation gate, apply rotation operations on the target qubit based on the state of the control qubit. These gates provide controlled phase shifts and general rotations to manipulate the quantum state of the target qubit.\n",
    "\n",
    "4. SWAP Gate: The SWAP gate exchanges the states of two qubits, allowing for qubit reordering and rearrangement in quantum circuits. It is a fundamental operation for qubit permutation and enables efficient qubit routing in quantum hardware.\n",
    "\n",
    "Understanding these duo qubit operations and their properties is essential for constructing quantum circuits, implementing quantum algorithms, and developing quantum error correction techniques. These gates provide the necessary tools for creating entanglement, performing controlled operations, and manipulating the quantum state of multiple qubits, opening up possibilities for more advanced quantum computations.\n"
   ]
  },
  {
   "cell_type": "code",
   "execution_count": 1,
   "id": "6f368e21",
   "metadata": {},
   "outputs": [],
   "source": [
    "# Useful additional packages\n",
    "import matplotlib.pyplot as plt\n",
    "import numpy as np\n",
    "\n",
    "from math import pi\n",
    "from IPython.display import display, Markdown"
   ]
  },
  {
   "cell_type": "code",
   "execution_count": 2,
   "id": "81714d3f",
   "metadata": {},
   "outputs": [],
   "source": [
    "from qiskit import QuantumCircuit, ClassicalRegister, QuantumRegister, transpile\n",
    "from qiskit.tools.visualization import circuit_drawer\n",
    "from qiskit.quantum_info import state_fidelity\n",
    "from qiskit import BasicAer\n",
    "\n",
    "from qiskit.quantum_info import Statevector\n",
    "\n",
    "backend = BasicAer.get_backend('unitary_simulator')"
   ]
  },
  {
   "cell_type": "markdown",
   "id": "54f7a82d",
   "metadata": {},
   "source": [
    "## 2.1. Definitions"
   ]
  },
  {
   "cell_type": "code",
   "execution_count": 3,
   "id": "f69346fe",
   "metadata": {},
   "outputs": [],
   "source": [
    "def display_circuit(quantum_circuit):\n",
    "    display(qc.draw('mpl')) \n",
    "    job = backend.run(transpile(qc, backend))\n",
    "    \n",
    "    print(\"Complete Matrix: \")\n",
    "    \n",
    "    display(job.result().get_unitary(qc, decimals=3))"
   ]
  },
  {
   "cell_type": "code",
   "execution_count": 4,
   "id": "bb73c399",
   "metadata": {},
   "outputs": [],
   "source": [
    "def simulating_DuoQubit(initial_state, quantum_circuit):\n",
    "    # Set the initial state of the simulator to the ground state using from_int\n",
    "    state_initial = Statevector.from_int(initial_state, 2**2)\n",
    "\n",
    "    # Generate latex_source representation for initial state\n",
    "    latex_initial = state_initial.draw('latex_source')\n",
    "\n",
    "    # Evolve the state by the quantum circuit\n",
    "    state_final = state_initial.evolve(quantum_circuit)\n",
    "\n",
    "    # Generate latex_source representation for final state\n",
    "    latex_final = state_final.draw('latex_source')\n",
    "\n",
    "    # Display the states on a single line with an arrow in between\n",
    "    display(Markdown(f\"**Evolving States:**\\n${latex_initial} \\\\longrightarrow {latex_final}$\\n\"))"
   ]
  },
  {
   "cell_type": "markdown",
   "id": "f3bb114b",
   "metadata": {},
   "source": [
    "## 2.2 Controlled Pauli Gates\n",
    "### 2.2.1 Controlled-X or Controlled-NOT (CNOT)\n",
    "The controlled Pauli gates are important quantum gates that apply a Pauli gate operation on a target qubit, conditioned on the state of a control qubit. In this section, we will discuss the controlled-X gate, also known as the controlled-NOT (CNOT) gate.\n",
    "\n",
    "The controlled-X gate is a two-qubit gate that performs an X gate operation on the target qubit if and only if the control qubit is in the state $|1\\rangle$. It can be represented by the following matrix:\n",
    "\n",
    "$$\n",
    "\\text{CNOT} = \\begin{bmatrix} \n",
    "1 & 0 & 0 & 0 \\\\\n",
    "0 & 1 & 0 & 0 \\\\\n",
    "0 & 0 & 0 & 1 \\\\\n",
    "0 & 0 & 1 & 0 \\\\\n",
    "\\end{bmatrix}\n",
    "$$\n",
    "\n",
    "In this matrix representation, the rows and columns correspond to the basis states $|00\\rangle$, $|01\\rangle$, $|10\\rangle$, and $|11\\rangle$, respectively.\n",
    "\n",
    "The action of the controlled-X gate on a two-qubit state is as follows:\n",
    "\n",
    "$$\n",
    "\\text{CNOT}(|\\text{control}\\rangle \\otimes |\\text{target}\\rangle) = |\\text{control}\\rangle \\otimes (X^{\\text{control}}|\\text{target}\\rangle)\n",
    "$$\n",
    "\n",
    "where $X^{\\text{control}}$ represents the application of an X gate on the target qubit if the control qubit is in the state $|1\\rangle$, and does nothing otherwise.\n",
    "\n",
    "The controlled-X gate is widely used in quantum algorithms and quantum error correction codes. It plays a crucial role in entangling qubits and performing computations in quantum circuits.\n",
    "\n",
    "Other controlled Pauli gates, such as controlled-Y and controlled-Z gates, can be defined in a similar way by applying the respective Pauli gates on the target qubit conditioned on the state of the control qubit."
   ]
  },
  {
   "cell_type": "code",
   "execution_count": 5,
   "id": "5ce73cfe",
   "metadata": {
    "scrolled": true
   },
   "outputs": [
    {
     "data": {
      "image/png": "[encoded data removed]",
      "text/plain": [
       "<Figure size 159.633x144.48 with 1 Axes>"
      ]
     },
     "metadata": {},
     "output_type": "display_data"
    },
    {
     "name": "stdout",
     "output_type": "stream",
     "text": [
      "Complete Matrix: \n"
     ]
    },
    {
     "data": {
      "text/plain": [
       "array([[1.+0.j, 0.+0.j, 0.+0.j, 0.+0.j],\n",
       "       [0.+0.j, 0.+0.j, 0.+0.j, 1.+0.j],\n",
       "       [0.+0.j, 0.+0.j, 1.+0.j, 0.+0.j],\n",
       "       [0.+0.j, 1.+0.j, 0.+0.j, 0.+0.j]])"
      ]
     },
     "metadata": {},
     "output_type": "display_data"
    }
   ],
   "source": [
    "# Circuit Design\n",
    "qb = QuantumRegister(2)\n",
    "qc = QuantumCircuit(qb)\n",
    "\n",
    "# Identity gate\n",
    "qc.cx(control_qubit = qb[0], target_qubit = qb[1])\n",
    "\n",
    "display_circuit(qc)"
   ]
  },
  {
   "cell_type": "code",
   "execution_count": 6,
   "id": "8d6d880a",
   "metadata": {
    "scrolled": true
   },
   "outputs": [
    {
     "data": {
      "text/markdown": [
       "**Evolving States:**\n",
       "$ |00\\rangle \\longrightarrow  |00\\rangle$\n"
      ],
      "text/plain": [
       "<IPython.core.display.Markdown object>"
      ]
     },
     "metadata": {},
     "output_type": "display_data"
    },
    {
     "data": {
      "text/markdown": [
       "**Evolving States:**\n",
       "$ |01\\rangle \\longrightarrow  |11\\rangle$\n"
      ],
      "text/plain": [
       "<IPython.core.display.Markdown object>"
      ]
     },
     "metadata": {},
     "output_type": "display_data"
    },
    {
     "data": {
      "text/markdown": [
       "**Evolving States:**\n",
       "$ |10\\rangle \\longrightarrow  |10\\rangle$\n"
      ],
      "text/plain": [
       "<IPython.core.display.Markdown object>"
      ]
     },
     "metadata": {},
     "output_type": "display_data"
    },
    {
     "data": {
      "text/markdown": [
       "**Evolving States:**\n",
       "$ |11\\rangle \\longrightarrow  |01\\rangle$\n"
      ],
      "text/plain": [
       "<IPython.core.display.Markdown object>"
      ]
     },
     "metadata": {},
     "output_type": "display_data"
    }
   ],
   "source": [
    "for i in range(2**2):\n",
    "    simulating_DuoQubit(i, qc) # each posible combination of states"
   ]
  },
  {
   "cell_type": "markdown",
   "id": "17b810f9",
   "metadata": {},
   "source": [
    "### 2.2.2 Controlled-Y\n",
    "\n",
    "The controlled-Y gate is another important controlled Pauli gate in quantum computing. It applies a Y gate operation on the target qubit if and only if the control qubit is in the state $|1\\rangle$. The controlled-Y gate can be represented by the following matrix:\n",
    "\n",
    "$$\n",
    "\\text{CY} = \\begin{bmatrix} \n",
    "1 & 0 & 0 & 0 \\\\\n",
    "0 & 1 & 0 & 0 \\\\\n",
    "0 & 0 & 0 & -i \\\\\n",
    "0 & 0 & i & 0 \\\\\n",
    "\\end{bmatrix}\n",
    "$$\n",
    "\n",
    "Similarly to the controlled-X gate, the rows and columns of the matrix correspond to the basis states $|00\\rangle$, $|01\\rangle$, $|10\\rangle$, and $|11\\rangle$.\n",
    "\n",
    "The action of the controlled-Y gate on a two-qubit state is given by:\n",
    "\n",
    "$$\n",
    "\\text{CY}(|\\text{control}\\rangle \\otimes |\\text{target}\\rangle) = |\\text{control}\\rangle \\otimes (Y^{\\text{control}}|\\text{target}\\rangle)\n",
    "$$\n",
    "\n",
    "Here, $Y^{\\text{control}}$ represents the application of a Y gate on the target qubit if the control qubit is in the state $|1\\rangle$, and does nothing otherwise.\n",
    "\n",
    "The controlled-Y gate is particularly useful for creating entangled states and implementing quantum algorithms. It introduces a phase change to the target qubit when the control qubit is in the state $|1\\rangle$, making it a valuable tool for quantum information processing."
   ]
  },
  {
   "cell_type": "code",
   "execution_count": 7,
   "id": "58f6bee0",
   "metadata": {},
   "outputs": [
    {
     "data": {
      "image/png": "[encoded data removed]",
      "text/plain": [
       "<Figure size 159.923x144.48 with 1 Axes>"
      ]
     },
     "metadata": {},
     "output_type": "display_data"
    },
    {
     "name": "stdout",
     "output_type": "stream",
     "text": [
      "Complete Matrix: \n"
     ]
    },
    {
     "data": {
      "text/plain": [
       "array([[1.+0.j, 0.+0.j, 0.+0.j, 0.+0.j],\n",
       "       [0.+0.j, 0.+0.j, 0.+0.j, 0.-1.j],\n",
       "       [0.+0.j, 0.+0.j, 1.+0.j, 0.+0.j],\n",
       "       [0.+0.j, 0.+1.j, 0.+0.j, 0.+0.j]])"
      ]
     },
     "metadata": {},
     "output_type": "display_data"
    }
   ],
   "source": [
    "# Circuit Design\n",
    "qb = QuantumRegister(2)\n",
    "qc = QuantumCircuit(qb)\n",
    "\n",
    "# Identity gate\n",
    "qc.cy(control_qubit = qb[0], target_qubit = qb[1])\n",
    "\n",
    "display_circuit(qc)"
   ]
  },
  {
   "cell_type": "code",
   "execution_count": 8,
   "id": "e8cb28d9",
   "metadata": {},
   "outputs": [
    {
     "data": {
      "text/markdown": [
       "**Evolving States:**\n",
       "$ |00\\rangle \\longrightarrow  |00\\rangle$\n"
      ],
      "text/plain": [
       "<IPython.core.display.Markdown object>"
      ]
     },
     "metadata": {},
     "output_type": "display_data"
    },
    {
     "data": {
      "text/markdown": [
       "**Evolving States:**\n",
       "$ |01\\rangle \\longrightarrow i |11\\rangle$\n"
      ],
      "text/plain": [
       "<IPython.core.display.Markdown object>"
      ]
     },
     "metadata": {},
     "output_type": "display_data"
    },
    {
     "data": {
      "text/markdown": [
       "**Evolving States:**\n",
       "$ |10\\rangle \\longrightarrow  |10\\rangle$\n"
      ],
      "text/plain": [
       "<IPython.core.display.Markdown object>"
      ]
     },
     "metadata": {},
     "output_type": "display_data"
    },
    {
     "data": {
      "text/markdown": [
       "**Evolving States:**\n",
       "$ |11\\rangle \\longrightarrow - i |01\\rangle$\n"
      ],
      "text/plain": [
       "<IPython.core.display.Markdown object>"
      ]
     },
     "metadata": {},
     "output_type": "display_data"
    }
   ],
   "source": [
    "for i in range(2**2):\n",
    "    simulating_DuoQubit(i, qc) # each posible combination of states"
   ]
  },
  {
   "cell_type": "markdown",
   "id": "6652cdc2",
   "metadata": {},
   "source": [
    "### 2.2.3 Controlled-Z or Controlled Phase-Flip Gate\n",
    "\n",
    "The controlled-Z gate, also known as the controlled phase-flip gate, is a controlled Pauli gate that applies a Z gate operation on the target qubit if and only if the control qubit is in the state $|1\\rangle$. The controlled-Z gate can be represented by the following matrix:\n",
    "\n",
    "$$\n",
    "\\text{CZ} = \\begin{bmatrix} \n",
    "1 & 0 & 0 & 0 \\\\\n",
    "0 & 1 & 0 & 0 \\\\\n",
    "0 & 0 & 1 & 0 \\\\\n",
    "0 & 0 & 0 & -1 \\\\\n",
    "\\end{bmatrix}\n",
    "$$\n",
    "\n",
    "Similarly to the previous controlled gates, the rows and columns of the matrix correspond to the basis states $|00\\rangle$, $|01\\rangle$, $|10\\rangle$, and $|11\\rangle$.\n",
    "\n",
    "The action of the controlled-Z gate on a two-qubit state is given by:\n",
    "\n",
    "$$\n",
    "\\text{CZ}(|\\text{control}\\rangle \\otimes |\\text{target}\\rangle) = |\\text{control}\\rangle \\otimes (Z^{\\text{control}}|\\text{target}\\rangle)\n",
    "$$\n",
    "\n",
    "Here, $Z^{\\text{control}}$ represents the application of a Z gate on the target qubit if the control qubit is in the state $|1\\rangle$, and does nothing otherwise.\n",
    "\n",
    "The controlled-Z gate is commonly used in various quantum algorithms, including quantum error correction codes and quantum gates construction. It enables the creation of entangled states and facilitates the manipulation of quantum information by introducing phase shifts based on the control qubit state."
   ]
  },
  {
   "cell_type": "code",
   "execution_count": 9,
   "id": "c97a65a3",
   "metadata": {},
   "outputs": [
    {
     "data": {
      "image/png": "[encoded data removed]",
      "text/plain": [
       "<Figure size 159.923x144.48 with 1 Axes>"
      ]
     },
     "metadata": {},
     "output_type": "display_data"
    },
    {
     "name": "stdout",
     "output_type": "stream",
     "text": [
      "Complete Matrix: \n"
     ]
    },
    {
     "data": {
      "text/plain": [
       "array([[ 1.-0.j,  0.+0.j,  0.+0.j,  0.+0.j],\n",
       "       [ 0.+0.j,  1.-0.j,  0.+0.j,  0.+0.j],\n",
       "       [ 0.+0.j,  0.+0.j,  1.-0.j,  0.+0.j],\n",
       "       [ 0.+0.j,  0.+0.j,  0.+0.j, -1.+0.j]])"
      ]
     },
     "metadata": {},
     "output_type": "display_data"
    }
   ],
   "source": [
    "# Circuit Design\n",
    "qb = QuantumRegister(2)\n",
    "qc = QuantumCircuit(qb)\n",
    "\n",
    "# Identity gate\n",
    "qc.cz(control_qubit = qb[0], target_qubit = qb[1])\n",
    "\n",
    "display_circuit(qc)"
   ]
  },
  {
   "cell_type": "code",
   "execution_count": 10,
   "id": "d980ee09",
   "metadata": {},
   "outputs": [
    {
     "data": {
      "text/markdown": [
       "**Evolving States:**\n",
       "$ |00\\rangle \\longrightarrow  |00\\rangle$\n"
      ],
      "text/plain": [
       "<IPython.core.display.Markdown object>"
      ]
     },
     "metadata": {},
     "output_type": "display_data"
    },
    {
     "data": {
      "text/markdown": [
       "**Evolving States:**\n",
       "$ |01\\rangle \\longrightarrow  |01\\rangle$\n"
      ],
      "text/plain": [
       "<IPython.core.display.Markdown object>"
      ]
     },
     "metadata": {},
     "output_type": "display_data"
    },
    {
     "data": {
      "text/markdown": [
       "**Evolving States:**\n",
       "$ |10\\rangle \\longrightarrow  |10\\rangle$\n"
      ],
      "text/plain": [
       "<IPython.core.display.Markdown object>"
      ]
     },
     "metadata": {},
     "output_type": "display_data"
    },
    {
     "data": {
      "text/markdown": [
       "**Evolving States:**\n",
       "$ |11\\rangle \\longrightarrow - |11\\rangle$\n"
      ],
      "text/plain": [
       "<IPython.core.display.Markdown object>"
      ]
     },
     "metadata": {},
     "output_type": "display_data"
    }
   ],
   "source": [
    "for i in range(2**2):\n",
    "    simulating_DuoQubit(i, qc) # each posible combination of states"
   ]
  },
  {
   "cell_type": "markdown",
   "id": "3368a514",
   "metadata": {},
   "source": [
    "## 2.3 Controlled Hadamard Gate\n",
    "\n",
    "The controlled Hadamard gate is a controlled gate that applies a Hadamard gate operation on the target qubit if and only if the control qubit is in the state $|1\\rangle$. The controlled Hadamard gate can be represented by the following matrix:\n",
    "\n",
    "$$\n",
    "\\text{CH} = \\frac{1}{\\sqrt{2}}\\begin{bmatrix} \n",
    "1 & 0 & 0 & 0 \\\\\n",
    "0 & 1 & 0 & 0 \\\\\n",
    "0 & 0 & 1 & 0 \\\\\n",
    "0 & 0 & 0 & -1 \\\\\n",
    "\\end{bmatrix}\n",
    "$$\n",
    "\n",
    "Similar to other controlled gates, the rows and columns of the matrix correspond to the basis states $|00\\rangle$, $|01\\rangle$, $|10\\rangle$, and $|11\\rangle$.\n",
    "\n",
    "The action of the controlled Hadamard gate on a two-qubit state is given by:\n",
    "\n",
    "$$\n",
    "\\text{CH}(|\\text{control}\\rangle \\otimes |\\text{target}\\rangle) = |\\text{control}\\rangle \\otimes (H^{\\text{control}}|\\text{target}\\rangle)\n",
    "$$\n",
    "\n",
    "Here, $H^{\\text{control}}$ represents the application of a Hadamard gate on the target qubit if the control qubit is in the state $|1\\rangle$, and does nothing otherwise.\n",
    "\n",
    "The controlled Hadamard gate is useful in various quantum algorithms, including quantum Fourier transform and quantum phase estimation. It allows for controlled superposition and entanglement generation, contributing to the manipulation and processing of quantum information."
   ]
  },
  {
   "cell_type": "code",
   "execution_count": 11,
   "id": "9eb3ab26",
   "metadata": {},
   "outputs": [
    {
     "data": {
      "image/png": "[encoded data removed]",
      "text/plain": [
       "<Figure size 159.778x144.48 with 1 Axes>"
      ]
     },
     "metadata": {},
     "output_type": "display_data"
    },
    {
     "name": "stdout",
     "output_type": "stream",
     "text": [
      "Complete Matrix: \n"
     ]
    },
    {
     "data": {
      "text/plain": [
       "array([[ 1.   +0.j,  0.   +0.j,  0.   +0.j,  0.   +0.j],\n",
       "       [ 0.   +0.j,  0.707+0.j,  0.   +0.j,  0.707-0.j],\n",
       "       [ 0.   +0.j,  0.   +0.j,  1.   +0.j,  0.   +0.j],\n",
       "       [ 0.   +0.j,  0.707+0.j,  0.   +0.j, -0.707-0.j]])"
      ]
     },
     "metadata": {},
     "output_type": "display_data"
    }
   ],
   "source": [
    "# Circuit Design\n",
    "qb = QuantumRegister(2)\n",
    "qc = QuantumCircuit(qb)\n",
    "\n",
    "# Identity gate\n",
    "qc.ch(control_qubit = qb[0], target_qubit = qb[1])\n",
    "\n",
    "display_circuit(qc)"
   ]
  },
  {
   "cell_type": "code",
   "execution_count": 12,
   "id": "c6017762",
   "metadata": {},
   "outputs": [
    {
     "data": {
      "text/markdown": [
       "**Evolving States:**\n",
       "$ |00\\rangle \\longrightarrow  |00\\rangle$\n"
      ],
      "text/plain": [
       "<IPython.core.display.Markdown object>"
      ]
     },
     "metadata": {},
     "output_type": "display_data"
    },
    {
     "data": {
      "text/markdown": [
       "**Evolving States:**\n",
       "$ |01\\rangle \\longrightarrow \\frac{\\sqrt{2}}{2} |01\\rangle+\\frac{\\sqrt{2}}{2} |11\\rangle$\n"
      ],
      "text/plain": [
       "<IPython.core.display.Markdown object>"
      ]
     },
     "metadata": {},
     "output_type": "display_data"
    },
    {
     "data": {
      "text/markdown": [
       "**Evolving States:**\n",
       "$ |10\\rangle \\longrightarrow  |10\\rangle$\n"
      ],
      "text/plain": [
       "<IPython.core.display.Markdown object>"
      ]
     },
     "metadata": {},
     "output_type": "display_data"
    },
    {
     "data": {
      "text/markdown": [
       "**Evolving States:**\n",
       "$ |11\\rangle \\longrightarrow \\frac{\\sqrt{2}}{2} |01\\rangle- \\frac{\\sqrt{2}}{2} |11\\rangle$\n"
      ],
      "text/plain": [
       "<IPython.core.display.Markdown object>"
      ]
     },
     "metadata": {},
     "output_type": "display_data"
    }
   ],
   "source": [
    "for i in range(2**2):\n",
    "    simulating_DuoQubit(i, qc) # each posible combination of states"
   ]
  },
  {
   "cell_type": "markdown",
   "id": "76287bab",
   "metadata": {},
   "source": [
    "## 2.4 Controlled Rotation Gates\n",
    "\n",
    "Controlled rotation gates are a family of gates that apply a rotation operation on the target qubit based on the state of the control qubit. In this section, we will discuss the controlled Z-rotation gate.\n",
    "\n",
    "### 2.4.1 Controlled Z-Rotation Gate\n",
    "\n",
    "The controlled Z-rotation gate, denoted as $CRZ(\\theta)$, applies a rotation of angle $\\theta$ around the Z-axis on the target qubit if and only if the control qubit is in the state $|1\\rangle$. The controlled Z-rotation gate can be represented by the following matrix:\n",
    "\n",
    "$$\n",
    "CRZ(\\theta) = \\begin{bmatrix} \n",
    "1 & 0 & 0 & 0 \\\\\n",
    "0 & 1 & 0 & 0 \\\\\n",
    "0 & 0 & e^{-i\\theta/2} & 0 \\\\\n",
    "0 & 0 & 0 & e^{i\\theta/2} \\\\\n",
    "\\end{bmatrix}\n",
    "$$\n",
    "\n",
    "In this matrix representation, the rows and columns correspond to the basis states $|00\\rangle$, $|01\\rangle$, $|10\\rangle$, and $|11\\rangle$.\n",
    "\n",
    "The action of the controlled Z-rotation gate on a two-qubit state is given by:\n",
    "\n",
    "$$\n",
    "CRZ(\\theta)(|\\text{control}\\rangle \\otimes |\\text{target}\\rangle) = |\\text{control}\\rangle \\otimes (R_Z^{\\text{control}}(\\theta)|\\text{target}\\rangle)\n",
    "$$\n",
    "\n",
    "Here, $R_Z^{\\text{control}}(\\theta)$ represents the rotation of angle $\\theta$ around the Z-axis on the target qubit if the control qubit is in the state $|1\\rangle$, and does nothing otherwise.\n",
    "\n",
    "Controlled rotation gates, including the controlled Z-rotation gate, are widely used in quantum algorithms for various purposes such as phase estimation, controlled phase-flips, and creating entanglement. They provide a versatile tool for manipulating quantum states based on the control qubit's state and the desired rotation angle $\\theta$."
   ]
  },
  {
   "cell_type": "code",
   "execution_count": 13,
   "id": "c27665ea",
   "metadata": {},
   "outputs": [
    {
     "data": {
      "image/png": "[encoded data removed]",
      "text/plain": [
       "<Figure size 159.778x144.48 with 1 Axes>"
      ]
     },
     "metadata": {},
     "output_type": "display_data"
    },
    {
     "name": "stdout",
     "output_type": "stream",
     "text": [
      "Complete Matrix: \n"
     ]
    },
    {
     "data": {
      "text/plain": [
       "array([[1.   +0.j   , 0.   +0.j   , 0.   +0.j   , 0.   +0.j   ],\n",
       "       [0.   +0.j   , 0.707-0.707j, 0.   +0.j   , 0.   +0.j   ],\n",
       "       [0.   +0.j   , 0.   +0.j   , 1.   +0.j   , 0.   +0.j   ],\n",
       "       [0.   +0.j   , 0.   +0.j   , 0.   +0.j   , 0.707+0.707j]])"
      ]
     },
     "metadata": {},
     "output_type": "display_data"
    }
   ],
   "source": [
    "# Circuit Design\n",
    "qb = QuantumRegister(2)\n",
    "qc = QuantumCircuit(qb)\n",
    "\n",
    "# Identity gate\n",
    "qc.crz(theta = pi/2, control_qubit = qb[0], target_qubit = qb[1])\n",
    "\n",
    "display_circuit(qc)"
   ]
  },
  {
   "cell_type": "code",
   "execution_count": 14,
   "id": "6c9e072d",
   "metadata": {},
   "outputs": [
    {
     "data": {
      "text/markdown": [
       "**Evolving States:**\n",
       "$ |00\\rangle \\longrightarrow  |00\\rangle$\n"
      ],
      "text/plain": [
       "<IPython.core.display.Markdown object>"
      ]
     },
     "metadata": {},
     "output_type": "display_data"
    },
    {
     "data": {
      "text/markdown": [
       "**Evolving States:**\n",
       "$ |01\\rangle \\longrightarrow (\\frac{\\sqrt{2}}{2} - \\frac{\\sqrt{2} i}{2}) |01\\rangle$\n"
      ],
      "text/plain": [
       "<IPython.core.display.Markdown object>"
      ]
     },
     "metadata": {},
     "output_type": "display_data"
    },
    {
     "data": {
      "text/markdown": [
       "**Evolving States:**\n",
       "$ |10\\rangle \\longrightarrow  |10\\rangle$\n"
      ],
      "text/plain": [
       "<IPython.core.display.Markdown object>"
      ]
     },
     "metadata": {},
     "output_type": "display_data"
    },
    {
     "data": {
      "text/markdown": [
       "**Evolving States:**\n",
       "$ |11\\rangle \\longrightarrow (\\frac{\\sqrt{2}}{2} + \\frac{\\sqrt{2} i}{2}) |11\\rangle$\n"
      ],
      "text/plain": [
       "<IPython.core.display.Markdown object>"
      ]
     },
     "metadata": {},
     "output_type": "display_data"
    }
   ],
   "source": [
    "for i in range(2**2):\n",
    "    simulating_DuoQubit(i, qc) # each posible combination of states"
   ]
  },
  {
   "cell_type": "markdown",
   "id": "8850cccc",
   "metadata": {},
   "source": [
    "### 2.4.2 Controlled Phase-Rotation Gate\n",
    "\n",
    "The controlled phase-rotation gate, denoted as $CPhase(\\theta)$ or $CR(\\theta)$, applies a phase rotation of angle $\\theta$ on the target qubit if and only if the control qubit is in the state $|1\\rangle$. The controlled phase-rotation gate can be represented by the following matrix:\n",
    "\n",
    "$$\n",
    "CPhase(\\theta) = \\begin{bmatrix} \n",
    "1 & 0 & 0 & 0 \\\\\n",
    "0 & 1 & 0 & 0 \\\\\n",
    "0 & 0 & 1 & 0 \\\\\n",
    "0 & 0 & 0 & e^{i\\theta} \\\\\n",
    "\\end{bmatrix}\n",
    "$$\n",
    "\n",
    "In this matrix representation, the rows and columns correspond to the basis states $|00\\rangle$, $|01\\rangle$, $|10\\rangle$, and $|11\\rangle$.\n",
    "\n",
    "The action of the controlled phase-rotation gate on a two-qubit state is given by:\n",
    "\n",
    "$$\n",
    "CPhase(\\theta)(|\\text{control}\\rangle \\otimes |\\text{target}\\rangle) = |\\text{control}\\rangle \\otimes (R_{\\text{phase}}^{\\text{control}}(\\theta)|\\text{target}\\rangle)\n",
    "$$\n",
    "\n",
    "Here, $R_{\\text{phase}}^{\\text{control}}(\\theta)$ represents the phase rotation of angle $\\theta$ on the target qubit if the control qubit is in the state $|1\\rangle$, and does nothing otherwise.\n",
    "\n",
    "Controlled phase-rotation gates are commonly used in quantum algorithms for implementing controlled phase shifts and creating entanglement between qubits. They allow for controlled manipulation of the phase of the target qubit based on the control qubit's state and the specified rotation angle $\\theta$."
   ]
  },
  {
   "cell_type": "code",
   "execution_count": 15,
   "id": "475c15ae",
   "metadata": {},
   "outputs": [
    {
     "data": {
      "image/png": "[encoded data removed]",
      "text/plain": [
       "<Figure size 232.959x144.48 with 1 Axes>"
      ]
     },
     "metadata": {},
     "output_type": "display_data"
    },
    {
     "name": "stdout",
     "output_type": "stream",
     "text": [
      "Complete Matrix: \n"
     ]
    },
    {
     "data": {
      "text/plain": [
       "array([[1.+0.j, 0.+0.j, 0.+0.j, 0.+0.j],\n",
       "       [0.+0.j, 1.+0.j, 0.+0.j, 0.+0.j],\n",
       "       [0.+0.j, 0.+0.j, 1.+0.j, 0.+0.j],\n",
       "       [0.+0.j, 0.+0.j, 0.+0.j, 0.+1.j]])"
      ]
     },
     "metadata": {},
     "output_type": "display_data"
    }
   ],
   "source": [
    "# Circuit Design\n",
    "qb = QuantumRegister(2)\n",
    "qc = QuantumCircuit(qb)\n",
    "\n",
    "# Identity gate\n",
    "qc.cp(theta = pi/2, control_qubit = qb[0], target_qubit = qb[1])\n",
    "\n",
    "display_circuit(qc)"
   ]
  },
  {
   "cell_type": "code",
   "execution_count": 16,
   "id": "ec8534a4",
   "metadata": {},
   "outputs": [
    {
     "data": {
      "text/markdown": [
       "**Evolving States:**\n",
       "$ |00\\rangle \\longrightarrow  |00\\rangle$\n"
      ],
      "text/plain": [
       "<IPython.core.display.Markdown object>"
      ]
     },
     "metadata": {},
     "output_type": "display_data"
    },
    {
     "data": {
      "text/markdown": [
       "**Evolving States:**\n",
       "$ |01\\rangle \\longrightarrow  |01\\rangle$\n"
      ],
      "text/plain": [
       "<IPython.core.display.Markdown object>"
      ]
     },
     "metadata": {},
     "output_type": "display_data"
    },
    {
     "data": {
      "text/markdown": [
       "**Evolving States:**\n",
       "$ |10\\rangle \\longrightarrow  |10\\rangle$\n"
      ],
      "text/plain": [
       "<IPython.core.display.Markdown object>"
      ]
     },
     "metadata": {},
     "output_type": "display_data"
    },
    {
     "data": {
      "text/markdown": [
       "**Evolving States:**\n",
       "$ |11\\rangle \\longrightarrow i |11\\rangle$\n"
      ],
      "text/plain": [
       "<IPython.core.display.Markdown object>"
      ]
     },
     "metadata": {},
     "output_type": "display_data"
    }
   ],
   "source": [
    "for i in range(2**2):\n",
    "    simulating_DuoQubit(i, qc) # each posible combination of states"
   ]
  },
  {
   "cell_type": "markdown",
   "id": "5249aac6",
   "metadata": {},
   "source": [
    "### 2.4.3 Controlled U-Rotation Gate\n",
    "\n",
    "The controlled U-rotation gate, denoted as $CU(\\theta, \\phi, \\lambda)$, applies a rotation operation specified by the angles $\\theta$, $\\phi$, and $\\lambda$ on the target qubit if and only if the control qubit is in the state $|1\\rangle$. The controlled U-rotation gate can be represented by the following matrix:\n",
    "\n",
    "$$\n",
    "CU(\\theta, \\phi, \\lambda) = \\begin{bmatrix} \n",
    "1 & 0 & 0 & 0 \\\\\n",
    "0 & 1 & 0 & 0 \\\\\n",
    "0 & 0 & e^{-i(\\phi+\\lambda)/2}\\cos(\\theta/2) & -e^{-i(\\phi-\\lambda)/2}\\sin(\\theta/2) \\\\\n",
    "0 & 0 & e^{i(\\phi-\\lambda)/2}\\sin(\\theta/2) & e^{i(\\phi+\\lambda)/2}\\cos(\\theta/2) \\\\\n",
    "\\end{bmatrix}\n",
    "$$\n",
    "\n",
    "In this matrix representation, the rows and columns correspond to the basis states $|00\\rangle$, $|01\\rangle$, $|10\\rangle$, and $|11\\rangle$.\n",
    "\n",
    "The action of the controlled U-rotation gate on a two-qubit state is given by:\n",
    "\n",
    "$$\n",
    "CU(\\theta, \\phi, \\lambda)(|\\text{control}\\rangle \\otimes |\\text{target}\\rangle) = |\\text{control}\\rangle \\otimes (U^{\\text{control}}(\\theta, \\phi, \\lambda)|\\text{target}\\rangle)\n",
    "$$\n",
    "\n",
    "Here, $U^{\\text{control}}(\\theta, \\phi, \\lambda)$ represents the rotation operation specified by the angles $\\theta$, $\\phi$, and $\\lambda$ on the target qubit if the control qubit is in the state $|1\\rangle$, and does nothing otherwise.\n",
    "\n",
    "Controlled U-rotation gates allow for more general rotations on the target qubit, providing flexibility in quantum circuit design and computation. They are utilized in various quantum algorithms and protocols to perform controlled operations with specific rotation angles."
   ]
  },
  {
   "cell_type": "code",
   "execution_count": 17,
   "id": "a6132488",
   "metadata": {},
   "outputs": [
    {
     "data": {
      "image/png": "[encoded data removed]",
      "text/plain": [
       "<Figure size 233.249x144.48 with 1 Axes>"
      ]
     },
     "metadata": {},
     "output_type": "display_data"
    },
    {
     "name": "stdout",
     "output_type": "stream",
     "text": [
      "Complete Matrix: \n"
     ]
    },
    {
     "data": {
      "text/plain": [
       "array([[ 1.   +0.j   ,  0.   +0.j   ,  0.   +0.j   ,  0.   +0.j   ],\n",
       "       [ 0.   +0.j   ,  0.707+0.j   ,  0.   +0.j   , -0.   -0.707j],\n",
       "       [ 0.   +0.j   ,  0.   +0.j   ,  1.   +0.j   ,  0.   +0.j   ],\n",
       "       [ 0.   +0.j   ,  0.   +0.707j,  0.   +0.j   , -0.707+0.j   ]])"
      ]
     },
     "metadata": {},
     "output_type": "display_data"
    }
   ],
   "source": [
    "# Circuit Design\n",
    "qb = QuantumRegister(2)\n",
    "qc = QuantumCircuit(qb)\n",
    "\n",
    "# Identity gate\n",
    "qc.cu(theta = pi/2, phi = pi/2, lam = pi/2, gamma = 0,\n",
    "      control_qubit = qb[0], target_qubit = qb[1])\n",
    "\n",
    "display_circuit(qc)"
   ]
  },
  {
   "cell_type": "code",
   "execution_count": 18,
   "id": "ed6a7fbb",
   "metadata": {},
   "outputs": [
    {
     "data": {
      "text/markdown": [
       "**Evolving States:**\n",
       "$ |00\\rangle \\longrightarrow  |00\\rangle$\n"
      ],
      "text/plain": [
       "<IPython.core.display.Markdown object>"
      ]
     },
     "metadata": {},
     "output_type": "display_data"
    },
    {
     "data": {
      "text/markdown": [
       "**Evolving States:**\n",
       "$ |01\\rangle \\longrightarrow \\frac{\\sqrt{2}}{2} |01\\rangle+\\frac{\\sqrt{2} i}{2} |11\\rangle$\n"
      ],
      "text/plain": [
       "<IPython.core.display.Markdown object>"
      ]
     },
     "metadata": {},
     "output_type": "display_data"
    },
    {
     "data": {
      "text/markdown": [
       "**Evolving States:**\n",
       "$ |10\\rangle \\longrightarrow  |10\\rangle$\n"
      ],
      "text/plain": [
       "<IPython.core.display.Markdown object>"
      ]
     },
     "metadata": {},
     "output_type": "display_data"
    },
    {
     "data": {
      "text/markdown": [
       "**Evolving States:**\n",
       "$ |11\\rangle \\longrightarrow - \\frac{\\sqrt{2} i}{2} |01\\rangle- \\frac{\\sqrt{2}}{2} |11\\rangle$\n"
      ],
      "text/plain": [
       "<IPython.core.display.Markdown object>"
      ]
     },
     "metadata": {},
     "output_type": "display_data"
    }
   ],
   "source": [
    "for i in range(2**2):\n",
    "    simulating_DuoQubit(i, qc) # each posible combination of states"
   ]
  },
  {
   "cell_type": "markdown",
   "id": "de55ec1b",
   "metadata": {},
   "source": [
    "## 2.5 SWAP Gate\n",
    "\n",
    "The SWAP gate is a two-qubit gate that exchanges the states of two qubits. It is commonly denoted as SWAP or $S$, and its matrix representation is as follows:\n",
    "\n",
    "$$\n",
    "SWAP = \\begin{bmatrix} \n",
    "1 & 0 & 0 & 0 \\\\\n",
    "0 & 0 & 1 & 0 \\\\\n",
    "0 & 1 & 0 & 0 \\\\\n",
    "0 & 0 & 0 & 1 \\\\\n",
    "\\end{bmatrix}\n",
    "$$\n",
    "\n",
    "In this matrix, the rows and columns correspond to the basis states $|00\\rangle$, $|01\\rangle$, $|10\\rangle$, and $|11\\rangle$. The SWAP gate exchanges the amplitudes between the second and third states.\n",
    "\n",
    "The action of the SWAP gate on a two-qubit state is given by:\n",
    "\n",
    "$$\n",
    "\\text{SWAP}(|\\text{qubit}_1\\rangle \\otimes |\\text{qubit}_2\\rangle) = |\\text{qubit}_2\\rangle \\otimes |\\text{qubit}_1\\rangle\n",
    "$$\n",
    "\n",
    "In other words, the SWAP gate swaps the states of the two qubits. If qubit 1 is in state $|\\text{qubit}_1\\rangle$ and qubit 2 is in state $|\\text{qubit}_2\\rangle$, the SWAP gate transforms the state to qubit 1 being in state $|\\text{qubit}_2\\rangle$ and qubit 2 being in state $|\\text{qubit}_1\\rangle$.\n",
    "\n",
    "The SWAP gate is a fundamental gate in quantum computing, enabling the reordering of qubits in quantum circuits. It plays a crucial role in various applications, including quantum algorithms, quantum error correction, and qubit routing in quantum hardware."
   ]
  },
  {
   "cell_type": "code",
   "execution_count": 19,
   "id": "6c0144e0",
   "metadata": {},
   "outputs": [
    {
     "data": {
      "image/png": "[encoded data removed]",
      "text/plain": [
       "<Figure size 173.049x144.48 with 1 Axes>"
      ]
     },
     "metadata": {},
     "output_type": "display_data"
    },
    {
     "name": "stdout",
     "output_type": "stream",
     "text": [
      "Complete Matrix: \n"
     ]
    },
    {
     "data": {
      "text/plain": [
       "array([[1.+0.j, 0.+0.j, 0.+0.j, 0.+0.j],\n",
       "       [0.+0.j, 0.+0.j, 1.+0.j, 0.+0.j],\n",
       "       [0.+0.j, 1.+0.j, 0.+0.j, 0.+0.j],\n",
       "       [0.+0.j, 0.+0.j, 0.+0.j, 1.+0.j]])"
      ]
     },
     "metadata": {},
     "output_type": "display_data"
    }
   ],
   "source": [
    "# Circuit Design\n",
    "qb = QuantumRegister(2)\n",
    "qc = QuantumCircuit(qb)\n",
    "\n",
    "# Identity gate\n",
    "qc.swap(qubit1 = qb[0], qubit2 = qb[1])\n",
    "\n",
    "display_circuit(qc)"
   ]
  },
  {
   "cell_type": "code",
   "execution_count": 20,
   "id": "a0e3cdaa",
   "metadata": {},
   "outputs": [
    {
     "data": {
      "text/markdown": [
       "**Evolving States:**\n",
       "$ |00\\rangle \\longrightarrow  |00\\rangle$\n"
      ],
      "text/plain": [
       "<IPython.core.display.Markdown object>"
      ]
     },
     "metadata": {},
     "output_type": "display_data"
    },
    {
     "data": {
      "text/markdown": [
       "**Evolving States:**\n",
       "$ |01\\rangle \\longrightarrow  |10\\rangle$\n"
      ],
      "text/plain": [
       "<IPython.core.display.Markdown object>"
      ]
     },
     "metadata": {},
     "output_type": "display_data"
    },
    {
     "data": {
      "text/markdown": [
       "**Evolving States:**\n",
       "$ |10\\rangle \\longrightarrow  |01\\rangle$\n"
      ],
      "text/plain": [
       "<IPython.core.display.Markdown object>"
      ]
     },
     "metadata": {},
     "output_type": "display_data"
    },
    {
     "data": {
      "text/markdown": [
       "**Evolving States:**\n",
       "$ |11\\rangle \\longrightarrow  |11\\rangle$\n"
      ],
      "text/plain": [
       "<IPython.core.display.Markdown object>"
      ]
     },
     "metadata": {},
     "output_type": "display_data"
    }
   ],
   "source": [
    "for i in range(2**2):\n",
    "    simulating_DuoQubit(i, qc) # each posible combination of states"
   ]
  }
 ],
 "metadata": {
  "kernelspec": {
   "display_name": "Python 3 (ipykernel)",
   "language": "python",
   "name": "python3"
  },
  "language_info": {
   "codemirror_mode": {
    "name": "ipython",
    "version": 3
   },
   "file_extension": ".py",
   "mimetype": "text/x-python",
   "name": "python",
   "nbconvert_exporter": "python",
   "pygments_lexer": "ipython3",
   "version": "3.9.12"
  }
 },
 "nbformat": 4,
 "nbformat_minor": 5
}
