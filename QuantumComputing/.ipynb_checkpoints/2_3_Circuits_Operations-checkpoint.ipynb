{
 "cells": [
  {
   "cell_type": "markdown",
   "id": "22fb1735",
   "metadata": {},
   "source": [
    "# 2.3 Circuit Operations - Non-unitary operations\n",
    "\n",
    "In quantum computing, circuits are composed of quantum gates that operate on qubits, the fundamental units of quantum information. While many quantum gates are unitary operations that preserve the normalization of the quantum state, there are also non-unitary operations that can modify the state in a non-reversible manner. These non-unitary operations play important roles in quantum algorithms, error correction, and specialized computations.\n",
    "\n",
    "In this section, we will explore non-unitary operations in quantum circuits, focusing on their characteristics, applications, and mathematical representations.\n",
    "\n",
    "Non-unitary operations can be classified into various categories based on their functionality and purpose. Some common examples include:\n",
    "\n",
    "1. Measurements: Measurements are non-unitary operations that extract classical information from a quantum state. They collapse the quantum state into one of the possible measurement outcomes, destroying the superposition. Measurements provide classical data that can be used for decision-making or further processing in quantum algorithms.\n",
    "\n",
    "2. Conditional Operations: Conditional operations allow for the execution of specific quantum gates or measurements based on classical information. These operations enable branching and control flow in quantum circuits, providing conditional logic similar to classical programming. By utilizing the values stored in classical bits, conditional operations alter the quantum state or choose different paths in the quantum computation.\n",
    "\n",
    "3. Initialization: Initialization operations prepare qubits in desired quantum states. While some initializations are achieved through unitary operations, certain cases require non-unitary operations to create specific states. For example, arbitrary initialization can be performed by specifying the desired state vector and using non-unitary operations to set the qubits accordingly.\n",
    "\n",
    "Non-unitary operations introduce irreversibility and modify the quantum state in ways that unitary operations alone cannot. They are essential for extracting classical information, introducing conditional logic, and preparing specialized quantum states. Understanding non-unitary operations expands the capabilities of quantum circuits, enabling the implementation of complex quantum algorithms and facilitating quantum error correction techniques.\n",
    "\n",
    "In the upcoming sections, we will delve into specific non-unitary operations, their properties, and their applications in quantum computing. We will explore measurements, conditional operations, and initialization in more detail, providing insights into their mathematical foundations and practical significance in the quantum computing landscape."
   ]
  },
  {
   "cell_type": "code",
   "execution_count": 1,
   "id": "2392cbb7",
   "metadata": {},
   "outputs": [],
   "source": [
    "# Useful additional packages\n",
    "import matplotlib.pyplot as plt\n",
    "import numpy as np\n",
    "import math as mt\n",
    "\n",
    "from math import pi\n",
    "from IPython.display import display, Markdown"
   ]
  },
  {
   "cell_type": "code",
   "execution_count": 2,
   "id": "50652586",
   "metadata": {},
   "outputs": [],
   "source": [
    "from qiskit import QuantumCircuit, ClassicalRegister, QuantumRegister, transpile\n",
    "from qiskit.tools.visualization import circuit_drawer\n",
    "from qiskit.quantum_info import state_fidelity\n",
    "from qiskit import BasicAer\n",
    "\n",
    "from qiskit.quantum_info import Statevector\n",
    "\n",
    "backend = BasicAer.get_backend('unitary_simulator')"
   ]
  },
  {
   "cell_type": "markdown",
   "id": "f3443791",
   "metadata": {},
   "source": [
    "## 2.1 Measurements\n",
    "\n",
    "In quantum computing, measurements play a crucial role in extracting information from quantum systems. They allow us to obtain classical information about the state of qubits. Measurements are performed at the end of a quantum computation or during intermediate steps to observe the quantum state.\n",
    "\n",
    "To understand measurements, it's important to note that quantum states are represented by superpositions, where qubits can exist in multiple states simultaneously. However, when a measurement is made, the quantum state collapses into one of the possible measurement outcomes. The measurement outcome is probabilistic, and the probability of obtaining a specific outcome is determined by the amplitudes of the corresponding state.\n",
    "\n",
    "A measurement in quantum computing can be represented by an observable operator, denoted as $\\hat{M}$. This operator corresponds to the measurement basis and determines the possible measurement outcomes. When a measurement is made, the observable operator projects the quantum state onto one of its eigenstates, yielding a classical outcome.\n",
    "\n",
    "The outcome of a measurement is obtained as a result of the inner product between the quantum state and the eigenstates of the observable operator. Mathematically, this can be expressed as:\n",
    "\n",
    "$$\n",
    "P(m) = |\\langle m | \\psi \\rangle|^2\n",
    "$$\n",
    "\n",
    "where $P(m)$ is the probability of obtaining the measurement outcome $m$, $|\\langle m | \\psi \\rangle|^2$ represents the squared magnitude of the inner product between the measurement outcome state $|m\\rangle$ and the quantum state $|\\psi\\rangle$.\n",
    "\n",
    "Common measurement operators include the Pauli matrices ($\\hat{X}$, $\\hat{Y}$, $\\hat{Z}$), which correspond to measuring in the computational basis. For example, measuring in the computational basis using the Pauli matrix $\\hat{Z}$ gives the measurement outcomes 0 and 1.\n",
    "\n",
    "It's important to note that measurements are non-unitary operations, meaning they irreversibly alter the quantum state. After a measurement, the quantum state collapses into one of the measurement outcomes, and any subsequent operations will depend on the obtained measurement result.\n",
    "\n",
    "Measurements are a fundamental aspect of quantum computing and are essential for extracting classical information from quantum systems. They allow us to observe and analyze the behavior of qubits, providing valuable insights into the quantum computation process."
   ]
  },
  {
   "cell_type": "code",
   "execution_count": 3,
   "id": "8a95038f",
   "metadata": {},
   "outputs": [
    {
     "data": {
      "image/png": "[encoded data removed]",
      "text/plain": [
       "<Figure size 206.707x144.48 with 1 Axes>"
      ]
     },
     "metadata": {},
     "output_type": "display_data"
    }
   ],
   "source": [
    "qb = QuantumRegister(1)    # Quantum bits\n",
    "cb = ClassicalRegister(1)  # Classical bits\n",
    "\n",
    "qc = QuantumCircuit(qb, cb)\n",
    "\n",
    "# Design\n",
    "qc.h(qb)\n",
    "qc.measure(qb, cb)\n",
    "\n",
    "\n",
    "# Visualization\n",
    "display(qc.draw('mpl')) "
   ]
  },
  {
   "cell_type": "code",
   "execution_count": 4,
   "id": "dfa8ebcb",
   "metadata": {},
   "outputs": [
    {
     "data": {
      "text/plain": [
       "{'1': 520, '0': 504}"
      ]
     },
     "execution_count": 4,
     "metadata": {},
     "output_type": "execute_result"
    }
   ],
   "source": [
    "backend = BasicAer.get_backend('qasm_simulator')\n",
    "job = backend.run(transpile(qc, backend))\n",
    "job.result().get_counts(qc)"
   ]
  },
  {
   "cell_type": "markdown",
   "id": "f12a2804",
   "metadata": {},
   "source": [
    "## 2.2 Reset"
   ]
  },
  {
   "cell_type": "code",
   "execution_count": 5,
   "id": "e5ef0654",
   "metadata": {},
   "outputs": [
    {
     "data": {
      "image/png": "[encoded data removed]",
      "text/plain": [
       "<Figure size 267.197x144.48 with 1 Axes>"
      ]
     },
     "metadata": {},
     "output_type": "display_data"
    }
   ],
   "source": [
    "qb = QuantumRegister(1)    # Quantum bits\n",
    "cb = ClassicalRegister(1)  # Classical bits\n",
    "\n",
    "qc = QuantumCircuit(qb, cb)\n",
    "\n",
    "# Design\n",
    "qc.h(qb)\n",
    "qc.reset(qb[0])\n",
    "qc.measure(qb, cb)\n",
    "\n",
    "\n",
    "# Visualization\n",
    "display(qc.draw('mpl')) "
   ]
  },
  {
   "cell_type": "code",
   "execution_count": 6,
   "id": "0126e6d6",
   "metadata": {},
   "outputs": [
    {
     "data": {
      "text/plain": [
       "{'0': 1024}"
      ]
     },
     "execution_count": 6,
     "metadata": {},
     "output_type": "execute_result"
    }
   ],
   "source": [
    "backend = BasicAer.get_backend('qasm_simulator')\n",
    "job = backend.run(transpile(qc, backend))\n",
    "job.result().get_counts(qc)"
   ]
  },
  {
   "cell_type": "markdown",
   "id": "eb1cc141",
   "metadata": {},
   "source": [
    "## 2.3 Conditional Operations\n",
    "\n",
    "Conditional operations in quantum computing allow for the execution of certain quantum gates or measurements based on the classical state of the classical bits. These conditional operations enable the implementation of quantum algorithms with control flow, making quantum computations more flexible and powerful.\n",
    "\n",
    "One common example of a conditional operation involves applying a quantum gate or measurement to a qubit only if a specific classical condition is met. This condition is determined by the value stored in a classical bit. If the classical condition is satisfied, the quantum operation is performed; otherwise, it is skipped.\n",
    "\n",
    "### First Example\n",
    "\n",
    "Let's consider a quantum circuit that uses a conditional operation. In this example, we have one quantum bit (`qb`) and one classical bit (`cb`). The circuit is defined as follows:\n",
    "\n",
    "```python\n",
    "qb = QuantumRegister(1)    # Quantum bits\n",
    "cb = ClassicalRegister(1)  # Classical bits\n",
    "\n",
    "qc = QuantumCircuit(qb, cb)\n",
    "\n",
    "# Design\n",
    "qc.x(qb[0]).c_if(cb, 0)\n",
    "qc.measure(qb, cb)\n",
    "```\n",
    "\n",
    "In this circuit, we first apply an X gate (bit-flip) to the quantum bit (`qb[0]`). However, the X gate is conditionally applied based on the value stored in the classical bit (`cb`). The condition `c_if(cb, 0)` specifies that the X gate is applied to `qb[0]` only if the value of `cb` is 0.\n",
    "\n",
    "After the conditional operation, we perform a measurement of the quantum bit (`qb`) and store the measurement result in the classical bit (`cb`).\n",
    "\n",
    "The visualization of the circuit can be seen below:\n",
    "\n",
    "```python\n",
    "display(qc.draw('mpl'))\n",
    "```\n",
    "\n",
    "The diagram provides a graphical representation of the circuit, illustrating the sequence of gates and measurements applied to the quantum and classical bits. It helps in understanding the structure and flow of the circuit.\n",
    "\n",
    "Conditional operations are crucial for implementing quantum algorithms that involve branching or decision-making based on classical information. They enhance the computational capabilities of quantum circuits, enabling more sophisticated and adaptive quantum computations."
   ]
  },
  {
   "cell_type": "code",
   "execution_count": 7,
   "id": "961e9d86",
   "metadata": {},
   "outputs": [
    {
     "data": {
      "image/png": "[encoded data removed]",
      "text/plain": [
       "<Figure size 206.997x144.48 with 1 Axes>"
      ]
     },
     "metadata": {},
     "output_type": "display_data"
    }
   ],
   "source": [
    "qb = QuantumRegister(1)    # Quantum bits\n",
    "cb = ClassicalRegister(1)  # Classical bits\n",
    "\n",
    "qc = QuantumCircuit(qb, cb)\n",
    "\n",
    "# Design\n",
    "qc.x(qb[0]).c_if(cb, 0)\n",
    "qc.measure(qb,cb)\n",
    "\n",
    "# Visualization\n",
    "display(qc.draw('mpl')) "
   ]
  },
  {
   "cell_type": "code",
   "execution_count": 8,
   "id": "c7d7c6a8",
   "metadata": {},
   "outputs": [
    {
     "data": {
      "text/plain": [
       "{'1': 1024}"
      ]
     },
     "execution_count": 8,
     "metadata": {},
     "output_type": "execute_result"
    }
   ],
   "source": [
    "job = backend.run(transpile(qc, backend))\n",
    "job.result().get_counts(qc)"
   ]
  },
  {
   "cell_type": "markdown",
   "id": "f465898a",
   "metadata": {},
   "source": [
    "### Second Example\n",
    "\n",
    "Here's another example of a quantum circuit that utilizes conditional operations. The circuit is defined as follows:\n",
    "\n",
    "```python\n",
    "qb = QuantumRegister(1)    # Quantum bits\n",
    "cb = ClassicalRegister(1)  # Classical bits\n",
    "\n",
    "qc = QuantumCircuit(qb, cb)\n",
    "\n",
    "qc.h(qb)\n",
    "qc.measure(qb, cb)\n",
    "qc.x(qb[0]).c_if(cb, 0)\n",
    "qc.measure(qb, cb)\n",
    "```\n",
    "\n",
    "In this circuit, we have one quantum bit (`qb`) and one classical bit (`cb`). The circuit consists of the following operations:\n",
    "\n",
    "1. Hadamard Gate: The Hadamard gate (`qc.h(qb)`) is applied to the quantum bit `qb`. It puts the qubit into a superposition state.\n",
    "\n",
    "2. Measurement: We perform a measurement of the quantum bit `qb` and store the result in the classical bit `cb` using `qc.measure(qb, cb)`.\n",
    "\n",
    "3. Conditional X Gate: The X gate (`qc.x(qb[0])`) is conditionally applied to `qb[0]` based on the value stored in the classical bit `cb`. The condition `c_if(cb, 0)` specifies that the X gate is applied only if the value of `cb` is 0.\n",
    "\n",
    "4. Second Measurement: Another measurement of the quantum bit `qb` is performed, and the result is stored in the classical bit `cb` using `qc.measure(qb, cb)`.\n",
    "\n",
    "The visualization of the circuit can be seen below:\n",
    "\n",
    "```python\n",
    "display(qc.draw('mpl'))\n",
    "```\n",
    "\n",
    "The diagram provides a visual representation of the circuit, illustrating the sequence of gates and measurements applied to the quantum and classical bits. It helps in understanding the structure and flow of the circuit.\n",
    "\n",
    "This example demonstrates how conditional operations can be used to alter the quantum state or perform different operations based on the measurement outcomes stored in classical bits. Conditional operations enable conditional branching and control flow in quantum circuits, allowing for more versatile quantum computations."
   ]
  },
  {
   "cell_type": "code",
   "execution_count": 9,
   "id": "904632d6",
   "metadata": {},
   "outputs": [
    {
     "data": {
      "image/png": "[encoded data removed]",
      "text/plain": [
       "<Figure size 340.233x144.48 with 1 Axes>"
      ]
     },
     "metadata": {},
     "output_type": "display_data"
    }
   ],
   "source": [
    "qb = QuantumRegister(1)    # Quantum bits\n",
    "cb = ClassicalRegister(1)  # Classical bits\n",
    "\n",
    "qc = QuantumCircuit(qb, cb)\n",
    "\n",
    "qc.h(qb)\n",
    "qc.measure(qb,cb)\n",
    "qc.x(qb[0]).c_if(cb, 0)\n",
    "qc.measure(qb,cb)\n",
    "\n",
    "# Visualization\n",
    "display(qc.draw('mpl')) "
   ]
  },
  {
   "cell_type": "code",
   "execution_count": 10,
   "id": "a7f878e7",
   "metadata": {},
   "outputs": [
    {
     "data": {
      "text/plain": [
       "{'1': 1024}"
      ]
     },
     "execution_count": 10,
     "metadata": {},
     "output_type": "execute_result"
    }
   ],
   "source": [
    "job = backend.run(transpile(qc, backend))\n",
    "job.result().get_counts(qc)"
   ]
  },
  {
   "cell_type": "markdown",
   "id": "c2e28f5c",
   "metadata": {},
   "source": [
    "## 2.3 Arbitrary Initialization\n",
    "\n",
    "Arbitrary initialization is a technique in quantum computing that allows us to prepare a quantum state with a desired vector. This means we can initialize the qubits in a superposition or any other specific state that we choose. The `initialize` method in quantum circuits is used to achieve this.\n",
    "\n",
    "In the following example, we will initialize a 2-qubit system with a desired vector using the `initialize` method.\n",
    "\n",
    "In this code snippet, `desired_vector` represents the desired state vector we want to initialize the qubits with. It contains the amplitudes for the basis states of the 2-qubit system. Here, we have chosen a state with equal amplitudes for two specific superposition states.\n",
    "\n",
    "The `QuantumRegister` object `qb` is created with 2 qubits to match the desired state vector. Then, a `QuantumCircuit` object `qc` is initialized with the quantum register.\n",
    "\n",
    "The `initialize` method is called on the quantum circuit `qc` and takes two arguments: the desired state vector `desired_vector` and a list of qubits `[qb[0], qb[1]]` that we want to initialize with the desired state.\n",
    "\n",
    "After calling the `initialize` method, the quantum circuit is prepared with the desired initial state."
   ]
  },
  {
   "cell_type": "code",
   "execution_count": 11,
   "id": "a2363b24",
   "metadata": {},
   "outputs": [
    {
     "data": {
      "image/png": "[encoded data removed]",
      "text/plain": [
       "<Figure size 233.249x144.48 with 1 Axes>"
      ]
     },
     "metadata": {},
     "output_type": "display_data"
    }
   ],
   "source": [
    "desired_vector = [\n",
    "    1 / mt.sqrt(4) * complex(0, 1),\n",
    "    1 / mt.sqrt(4) * complex(1, 0),\n",
    "    1 / mt.sqrt(4) * complex(0, 1),\n",
    "    1 / mt.sqrt(4) * complex(1, 0)]\n",
    "\n",
    "qb = QuantumRegister(2)\n",
    "\n",
    "qc = QuantumCircuit(qb)\n",
    "\n",
    "qc.initialize(desired_vector, [qb[0], qb[1]])\n",
    "\n",
    "# Visualization\n",
    "display(qc.draw('mpl')) "
   ]
  },
  {
   "cell_type": "code",
   "execution_count": 12,
   "id": "1f63aac3",
   "metadata": {},
   "outputs": [
    {
     "data": {
      "text/plain": [
       "array([3.061617e-17+5.00000000e-01j, 5.000000e-01+1.11022302e-16j,\n",
       "       3.061617e-17+5.00000000e-01j, 5.000000e-01+1.11022302e-16j])"
      ]
     },
     "metadata": {},
     "output_type": "display_data"
    }
   ],
   "source": [
    "backend = BasicAer.get_backend('statevector_simulator')\n",
    "job = backend.run(transpile(qc, backend))\n",
    "qc_state = job.result().get_statevector(qc)\n",
    "display(qc_state)"
   ]
  }
 ],
 "metadata": {
  "kernelspec": {
   "display_name": "Python 3 (ipykernel)",
   "language": "python",
   "name": "python3"
  },
  "language_info": {
   "codemirror_mode": {
    "name": "ipython",
    "version": 3
   },
   "file_extension": ".py",
   "mimetype": "text/x-python",
   "name": "python",
   "nbconvert_exporter": "python",
   "pygments_lexer": "ipython3",
   "version": "3.9.12"
  }
 },
 "nbformat": 4,
 "nbformat_minor": 5
}
