{
 "cells": [
  {
   "cell_type": "markdown",
   "id": "40fa31f1",
   "metadata": {},
   "source": [
    "# 2.1 Circuit Operations - Single Qubits\n",
    "\n",
    "In quantum computing, circuits are composed of quantum gates that operate on qubits, the fundamental units of quantum information. Single-qubit operations play a crucial role in quantum circuits, allowing for the manipulation and transformation of individual qubits. These operations are represented by specific gates, each with its own matrix representation and mathematical properties.\n",
    "\n",
    "In this section, we will explore various single-qubit gates commonly used in quantum computing. We will delve into their mathematical representations, actions on quantum states, and their significance in quantum algorithms and error correction.\n",
    "\n",
    "The gates we will discuss include:\n",
    "\n",
    "1. Identity Gate: The Identity gate leaves the state of a qubit unchanged and acts as a \"do nothing\" operation.\n",
    "\n",
    "2. Pauli Gates: The Pauli gates are a set of gates named after Wolfgang Pauli and include the Pauli X, Pauli Y, and Pauli Z gates. These gates introduce specific transformations to the qubit state, such as bit flips, phase flips, and combinations of both.\n",
    "\n",
    "3. Clifford Gates: The Clifford gates are a group of gates that belong to the Clifford group. They are known for their ability to preserve certain properties of quantum states. We will cover the Clifford-Hadamard gate, Clifford-S gate, and Clifford-S-dagger gate.\n",
    "\n",
    "4. U Gate: The U gate, also known as the arbitrary single-qubit gate or the general single-qubit gate, allows for arbitrary rotations and manipulations of qubit states. It provides a flexible framework for single-qubit operations in quantum computing.\n",
    "\n",
    "5. P Gate: The P gate, also known as the phase gate or phase shift gate, introduces a phase shift to the quantum state of a qubit. It allows for precise control of phase information in quantum computations.\n",
    "\n",
    "Understanding these single-qubit operations and their properties is essential for constructing quantum circuits, implementing quantum algorithms, and developing quantum error correction techniques. These gates serve as the building blocks for more complex quantum operations and pave the way for the realization of powerful quantum computations."
   ]
  },
  {
   "cell_type": "code",
   "execution_count": 1,
   "id": "6f368e21",
   "metadata": {},
   "outputs": [],
   "source": [
    "# Useful additional packages\n",
    "import matplotlib.pyplot as plt\n",
    "import numpy as np\n",
    "\n",
    "from math import pi\n",
    "from IPython.display import display, Markdown"
   ]
  },
  {
   "cell_type": "code",
   "execution_count": 2,
   "id": "81714d3f",
   "metadata": {},
   "outputs": [],
   "source": [
    "from qiskit import QuantumCircuit, ClassicalRegister, QuantumRegister, transpile\n",
    "from qiskit.tools.visualization import circuit_drawer\n",
    "from qiskit.quantum_info import state_fidelity\n",
    "from qiskit import BasicAer\n",
    "\n",
    "from qiskit.quantum_info import Statevector\n",
    "\n",
    "backend = BasicAer.get_backend('unitary_simulator')"
   ]
  },
  {
   "cell_type": "markdown",
   "id": "54f7a82d",
   "metadata": {},
   "source": [
    "## 2.1. Definitions"
   ]
  },
  {
   "cell_type": "code",
   "execution_count": 3,
   "id": "f69346fe",
   "metadata": {},
   "outputs": [],
   "source": [
    "def display_circuit(quantum_circuit):\n",
    "    display(qc.draw('mpl')) \n",
    "    job = backend.run(transpile(qc, backend))\n",
    "    \n",
    "    print(\"Complete Matrix: \")\n",
    "    \n",
    "    display(job.result().get_unitary(qc, decimals=3))"
   ]
  },
  {
   "cell_type": "code",
   "execution_count": 4,
   "id": "bb73c399",
   "metadata": {},
   "outputs": [],
   "source": [
    "def simulating_SingleQubit(initial_state, quantum_circuit):\n",
    "    # Set the initial state of the simulator to the ground state using from_int\n",
    "    state = Statevector.from_int(initial_state, 2**1)\n",
    "\n",
    "    # Display initial state\n",
    "    display(Markdown(\"**Initial State**\"))\n",
    "    display(state.draw('latex'))\n",
    "\n",
    "    # Evolve the state by the quantum circuit\n",
    "    state = state.evolve(quantum_circuit)\n",
    "\n",
    "    # Display final state\n",
    "    display(Markdown(\"**Final State**\"))\n",
    "    display(state.draw('latex'))"
   ]
  },
  {
   "cell_type": "markdown",
   "id": "f3bb114b",
   "metadata": {},
   "source": [
    "## 2.2 Identity Gate\n",
    "\n",
    "The Identity gate is a basic quantum gate which, as the name suggests, leaves the state of the qubit unchanged. It can be represented by the 2x2 Identity matrix, usually denoted by the capital letter I. In terms of its action on the quantum state, it doesn't perform any operation.\n",
    "\n",
    "The Identity gate matrix is given by:\n",
    "\n",
    "$$\n",
    "I = \\begin{bmatrix} 1 & 0 \\\\ 0 & 1 \\end{bmatrix}\n",
    "$$\n",
    "\n",
    "When an identity gate is applied to a qubit, the resulting state of the qubit is exactly the same as the initial state. In terms of mathematical expression, if a qubit is in state $|\\psi\\rangle$, the action of the identity gate on the qubit is:\n",
    "\n",
    "$$\n",
    "I |\\psi\\rangle = |\\psi\\rangle\n",
    "$$\n",
    "\n",
    "Where $|\\psi\\rangle$ is any arbitrary quantum state. \n",
    "\n",
    "The Identity gate is quite useful as a 'do nothing' operation. In some situations, for example, it may be necessary to allow for a certain amount of time to pass while other qubits undergo operations. During this time, we can apply an Identity gate to the qubits that we don't want to change."
   ]
  },
  {
   "cell_type": "code",
   "execution_count": 5,
   "id": "5ce73cfe",
   "metadata": {
    "scrolled": true
   },
   "outputs": [
    {
     "data": {
      "image/png": "[encoded data removed]",
      "text/plain": [
       "<Figure size 146.507x84.28 with 1 Axes>"
      ]
     },
     "metadata": {},
     "output_type": "display_data"
    },
    {
     "name": "stdout",
     "output_type": "stream",
     "text": [
      "Complete Matrix: \n"
     ]
    },
    {
     "data": {
      "text/plain": [
       "array([[1.+0.j, 0.+0.j],\n",
       "       [0.+0.j, 1.+0.j]])"
      ]
     },
     "metadata": {},
     "output_type": "display_data"
    }
   ],
   "source": [
    "# Circuit Design\n",
    "qc = QuantumCircuit(QuantumRegister(1))\n",
    "\n",
    "# Identity gate\n",
    "qc.i(qubit = 0)\n",
    "\n",
    "display_circuit(qc)"
   ]
  },
  {
   "cell_type": "code",
   "execution_count": 6,
   "id": "8d6d880a",
   "metadata": {
    "scrolled": true
   },
   "outputs": [
    {
     "data": {
      "text/markdown": [
       "**Initial State**"
      ],
      "text/plain": [
       "<IPython.core.display.Markdown object>"
      ]
     },
     "metadata": {},
     "output_type": "display_data"
    },
    {
     "data": {
      "text/latex": [
       "$$ |0\\rangle$$"
      ],
      "text/plain": [
       "<IPython.core.display.Latex object>"
      ]
     },
     "metadata": {},
     "output_type": "display_data"
    },
    {
     "data": {
      "text/markdown": [
       "**Final State**"
      ],
      "text/plain": [
       "<IPython.core.display.Markdown object>"
      ]
     },
     "metadata": {},
     "output_type": "display_data"
    },
    {
     "data": {
      "text/latex": [
       "$$ |0\\rangle$$"
      ],
      "text/plain": [
       "<IPython.core.display.Latex object>"
      ]
     },
     "metadata": {},
     "output_type": "display_data"
    },
    {
     "name": "stdout",
     "output_type": "stream",
     "text": [
      "\n",
      "\n"
     ]
    },
    {
     "data": {
      "text/markdown": [
       "**Initial State**"
      ],
      "text/plain": [
       "<IPython.core.display.Markdown object>"
      ]
     },
     "metadata": {},
     "output_type": "display_data"
    },
    {
     "data": {
      "text/latex": [
       "$$ |1\\rangle$$"
      ],
      "text/plain": [
       "<IPython.core.display.Latex object>"
      ]
     },
     "metadata": {},
     "output_type": "display_data"
    },
    {
     "data": {
      "text/markdown": [
       "**Final State**"
      ],
      "text/plain": [
       "<IPython.core.display.Markdown object>"
      ]
     },
     "metadata": {},
     "output_type": "display_data"
    },
    {
     "data": {
      "text/latex": [
       "$$ |1\\rangle$$"
      ],
      "text/plain": [
       "<IPython.core.display.Latex object>"
      ]
     },
     "metadata": {},
     "output_type": "display_data"
    }
   ],
   "source": [
    "simulating_SingleQubit(0, qc) # 0 as initial state\n",
    "print('\\n')\n",
    "simulating_SingleQubit(1, qc) # 1 as initial state"
   ]
  },
  {
   "cell_type": "markdown",
   "id": "be19596b",
   "metadata": {},
   "source": [
    "## 2.3 Pauli Gates\n",
    "\n",
    "Pauli gates are a set of quantum gates named after the physicist Wolfgang Pauli. They are essential in quantum computing and play a crucial role in quantum algorithms and error correction codes. There are three Pauli gates: Pauli X gate, Pauli Y gate, and Pauli Z gate. Each gate corresponds to a specific matrix transformation.\n",
    "\n",
    "### 2.3.1 Pauli X Gate\n",
    "\n",
    "The Pauli X gate, also known as the NOT gate, is the quantum analogue of classical bitwise negation. It flips the state of a qubit from 0 to 1, or vice versa. Mathematically, the Pauli X gate can be represented by the following matrix:\n",
    "\n",
    "$$\n",
    "X = \\begin{bmatrix} 0 & 1 \\\\ 1 & 0 \\end{bmatrix}\n",
    "$$\n",
    "\n",
    "When the Pauli X gate is applied to a qubit, it exchanges the probability amplitudes of the basis states |0⟩ and |1⟩, resulting in a bit flip. The action of the Pauli X gate on a qubit in state $|\\psi\\rangle$ is given by:\n",
    "\n",
    "$$\n",
    "X |\\psi\\rangle = \\begin{bmatrix} 0 & 1 \\\\ 1 & 0 \\end{bmatrix} \\begin{bmatrix} \\alpha \\\\ \\beta \\end{bmatrix} = \\begin{bmatrix} \\beta \\\\ \\alpha \\end{bmatrix}\n",
    "$$\n",
    "\n",
    "Where $|\\psi\\rangle = \\begin{bmatrix} \\alpha \\\\ \\beta \\end{bmatrix}$ represents the quantum state of the qubit.\n",
    "\n",
    "The Pauli X gate is often used as a basic building block for various quantum algorithms, such as the quantum teleportation protocol and the quantum search algorithm (Grover's algorithm). It is also a fundamental gate in quantum error correction codes, where it plays a crucial role in correcting bit-flip errors.\n",
    "\n",
    "Note: The Pauli X gate is a unitary gate, which means it is reversible and preserves the normalization of the quantum state."
   ]
  },
  {
   "cell_type": "code",
   "execution_count": 7,
   "id": "3841c770",
   "metadata": {},
   "outputs": [
    {
     "data": {
      "image/png": "[encoded data removed]",
      "text/plain": [
       "<Figure size 146.797x84.28 with 1 Axes>"
      ]
     },
     "metadata": {},
     "output_type": "display_data"
    },
    {
     "name": "stdout",
     "output_type": "stream",
     "text": [
      "Complete Matrix: \n"
     ]
    },
    {
     "data": {
      "text/plain": [
       "array([[0.+0.j, 1.+0.j],\n",
       "       [1.+0.j, 0.+0.j]])"
      ]
     },
     "metadata": {},
     "output_type": "display_data"
    }
   ],
   "source": [
    "# Circuit Design\n",
    "qc = QuantumCircuit(QuantumRegister(1))\n",
    "\n",
    "# Pauli-X gate\n",
    "qc.x(qubit = 0)\n",
    "\n",
    "display_circuit(qc)"
   ]
  },
  {
   "cell_type": "code",
   "execution_count": 8,
   "id": "09c8714e",
   "metadata": {
    "scrolled": true
   },
   "outputs": [
    {
     "data": {
      "text/markdown": [
       "**Initial State**"
      ],
      "text/plain": [
       "<IPython.core.display.Markdown object>"
      ]
     },
     "metadata": {},
     "output_type": "display_data"
    },
    {
     "data": {
      "text/latex": [
       "$$ |0\\rangle$$"
      ],
      "text/plain": [
       "<IPython.core.display.Latex object>"
      ]
     },
     "metadata": {},
     "output_type": "display_data"
    },
    {
     "data": {
      "text/markdown": [
       "**Final State**"
      ],
      "text/plain": [
       "<IPython.core.display.Markdown object>"
      ]
     },
     "metadata": {},
     "output_type": "display_data"
    },
    {
     "data": {
      "text/latex": [
       "$$ |1\\rangle$$"
      ],
      "text/plain": [
       "<IPython.core.display.Latex object>"
      ]
     },
     "metadata": {},
     "output_type": "display_data"
    },
    {
     "name": "stdout",
     "output_type": "stream",
     "text": [
      "\n",
      "\n"
     ]
    },
    {
     "data": {
      "text/markdown": [
       "**Initial State**"
      ],
      "text/plain": [
       "<IPython.core.display.Markdown object>"
      ]
     },
     "metadata": {},
     "output_type": "display_data"
    },
    {
     "data": {
      "text/latex": [
       "$$ |1\\rangle$$"
      ],
      "text/plain": [
       "<IPython.core.display.Latex object>"
      ]
     },
     "metadata": {},
     "output_type": "display_data"
    },
    {
     "data": {
      "text/markdown": [
       "**Final State**"
      ],
      "text/plain": [
       "<IPython.core.display.Markdown object>"
      ]
     },
     "metadata": {},
     "output_type": "display_data"
    },
    {
     "data": {
      "text/latex": [
       "$$ |0\\rangle$$"
      ],
      "text/plain": [
       "<IPython.core.display.Latex object>"
      ]
     },
     "metadata": {},
     "output_type": "display_data"
    }
   ],
   "source": [
    "simulating_SingleQubit(0, qc) # 0 as initial state\n",
    "print('\\n')\n",
    "simulating_SingleQubit(1, qc) # 1 as initial state"
   ]
  },
  {
   "cell_type": "markdown",
   "id": "75709970",
   "metadata": {},
   "source": [
    "### 2.3.2 Pauli Y Gate\n",
    "\n",
    "The Pauli Y gate is another member of the Pauli gate family and is closely related to the Pauli X gate. While the Pauli X gate performs a bit flip operation, the Pauli Y gate introduces a combination of bit flip and phase flip operations. Mathematically, the Pauli Y gate is represented by the following matrix:\n",
    "\n",
    "$$\n",
    "Y = \\begin{bmatrix} 0 & -i \\\\ i & 0 \\end{bmatrix}\n",
    "$$\n",
    "\n",
    "The Pauli Y gate acts on a qubit in a similar manner as the Pauli X gate, but it also introduces a phase change. The action of the Pauli Y gate on a qubit in state $|\\psi\\rangle$ is given by:\n",
    "\n",
    "$$\n",
    "Y |\\psi\\rangle = \\begin{bmatrix} 0 & -i \\\\ i & 0 \\end{bmatrix} \\begin{bmatrix} \\alpha \\\\ \\beta \\end{bmatrix} = \\begin{bmatrix} -i\\beta \\\\ i\\alpha \\end{bmatrix}\n",
    "$$\n",
    "\n",
    "Where $|\\psi\\rangle = \\begin{bmatrix} \\alpha \\\\ \\beta \\end{bmatrix}$ represents the quantum state of the qubit.\n",
    "\n",
    "The Pauli Y gate can be thought of as a combination of the Pauli X gate and a phase gate. It flips the state of the qubit and introduces a relative phase between the basis states |0⟩ and |1⟩. The Pauli Y gate is also a unitary gate, preserving the normalization and reversibility of the quantum state.\n",
    "\n",
    "The Pauli Y gate is frequently utilized in quantum algorithms and quantum error correction. It plays a crucial role in various applications, such as quantum state preparation, quantum state tomography, and the implementation of quantum gates through universal gate sets."
   ]
  },
  {
   "cell_type": "code",
   "execution_count": 9,
   "id": "c25b88ba",
   "metadata": {},
   "outputs": [
    {
     "data": {
      "image/png": "[encoded data removed]",
      "text/plain": [
       "<Figure size 146.797x84.28 with 1 Axes>"
      ]
     },
     "metadata": {},
     "output_type": "display_data"
    },
    {
     "name": "stdout",
     "output_type": "stream",
     "text": [
      "Complete Matrix: \n"
     ]
    },
    {
     "data": {
      "text/plain": [
       "array([[ 0.+0.j, -0.-1.j],\n",
       "       [ 0.+1.j,  0.+0.j]])"
      ]
     },
     "metadata": {},
     "output_type": "display_data"
    }
   ],
   "source": [
    "# Circuit Design\n",
    "qc = QuantumCircuit(QuantumRegister(1))\n",
    "\n",
    "# Pauli-X gate\n",
    "qc.y(qubit = 0)\n",
    "\n",
    "display_circuit(qc)"
   ]
  },
  {
   "cell_type": "code",
   "execution_count": 10,
   "id": "43784cef",
   "metadata": {},
   "outputs": [
    {
     "data": {
      "text/markdown": [
       "**Initial State**"
      ],
      "text/plain": [
       "<IPython.core.display.Markdown object>"
      ]
     },
     "metadata": {},
     "output_type": "display_data"
    },
    {
     "data": {
      "text/latex": [
       "$$ |0\\rangle$$"
      ],
      "text/plain": [
       "<IPython.core.display.Latex object>"
      ]
     },
     "metadata": {},
     "output_type": "display_data"
    },
    {
     "data": {
      "text/markdown": [
       "**Final State**"
      ],
      "text/plain": [
       "<IPython.core.display.Markdown object>"
      ]
     },
     "metadata": {},
     "output_type": "display_data"
    },
    {
     "data": {
      "text/latex": [
       "$$i |1\\rangle$$"
      ],
      "text/plain": [
       "<IPython.core.display.Latex object>"
      ]
     },
     "metadata": {},
     "output_type": "display_data"
    },
    {
     "name": "stdout",
     "output_type": "stream",
     "text": [
      "\n",
      "\n"
     ]
    },
    {
     "data": {
      "text/markdown": [
       "**Initial State**"
      ],
      "text/plain": [
       "<IPython.core.display.Markdown object>"
      ]
     },
     "metadata": {},
     "output_type": "display_data"
    },
    {
     "data": {
      "text/latex": [
       "$$ |1\\rangle$$"
      ],
      "text/plain": [
       "<IPython.core.display.Latex object>"
      ]
     },
     "metadata": {},
     "output_type": "display_data"
    },
    {
     "data": {
      "text/markdown": [
       "**Final State**"
      ],
      "text/plain": [
       "<IPython.core.display.Markdown object>"
      ]
     },
     "metadata": {},
     "output_type": "display_data"
    },
    {
     "data": {
      "text/latex": [
       "$$- i |0\\rangle$$"
      ],
      "text/plain": [
       "<IPython.core.display.Latex object>"
      ]
     },
     "metadata": {},
     "output_type": "display_data"
    }
   ],
   "source": [
    "simulating_SingleQubit(0, qc) # 0 as initial state\n",
    "print('\\n')\n",
    "simulating_SingleQubit(1, qc) # 1 as initial state"
   ]
  },
  {
   "cell_type": "markdown",
   "id": "15e87988",
   "metadata": {},
   "source": [
    "### 2.3.3 Pauli Z Gate\n",
    "\n",
    "The Pauli Z gate is the third member of the Pauli gate family and is distinct from the Pauli X and Pauli Y gates. The Pauli Z gate introduces a phase flip operation without altering the state probabilities. Mathematically, the Pauli Z gate is represented by the following matrix:\n",
    "\n",
    "$$\n",
    "Z = \\begin{bmatrix} 1 & 0 \\\\ 0 & -1 \\end{bmatrix}\n",
    "$$\n",
    "\n",
    "When the Pauli Z gate is applied to a qubit, it leaves the probabilities of the basis states |0⟩ and |1⟩ unchanged but introduces a relative phase of -1 to the |1⟩ state. The action of the Pauli Z gate on a qubit in state $|\\psi\\rangle$ is given by:\n",
    "\n",
    "$$\n",
    "Z |\\psi\\rangle = \\begin{bmatrix} 1 & 0 \\\\ 0 & -1 \\end{bmatrix} \\begin{bmatrix} \\alpha \\\\ \\beta \\end{bmatrix} = \\begin{bmatrix} \\alpha \\\\ -\\beta \\end{bmatrix}\n",
    "$$\n",
    "\n",
    "Where $|\\psi\\rangle = \\begin{bmatrix} \\alpha \\\\ \\beta \\end{bmatrix}$ represents the quantum state of the qubit.\n",
    "\n",
    "The Pauli Z gate acts as a phase gate, introducing a relative phase shift between the basis states |0⟩ and |1⟩. It does not change the probability distribution of the qubit state but modifies the global phase factor. The Pauli Z gate is also a unitary gate, ensuring the preservation of the normalization and reversibility of the quantum state.\n",
    "\n",
    "The Pauli Z gate plays a crucial role in quantum algorithms and quantum error correction. It is utilized in quantum gates, measurements, and various computational operations. Additionally, it serves as a key component in quantum circuits for implementing complex quantum algorithms and protocols."
   ]
  },
  {
   "cell_type": "code",
   "execution_count": 11,
   "id": "47c6d757",
   "metadata": {},
   "outputs": [
    {
     "data": {
      "image/png": "[encoded data removed]",
      "text/plain": [
       "<Figure size 146.652x84.28 with 1 Axes>"
      ]
     },
     "metadata": {},
     "output_type": "display_data"
    },
    {
     "name": "stdout",
     "output_type": "stream",
     "text": [
      "Complete Matrix: \n"
     ]
    },
    {
     "data": {
      "text/plain": [
       "array([[ 1.+0.j,  0.+0.j],\n",
       "       [ 0.+0.j, -1.+0.j]])"
      ]
     },
     "metadata": {},
     "output_type": "display_data"
    }
   ],
   "source": [
    "# Circuit Design\n",
    "qc = QuantumCircuit(QuantumRegister(1))\n",
    "\n",
    "# Pauli-X gate\n",
    "qc.z(qubit = 0)\n",
    "\n",
    "display_circuit(qc)"
   ]
  },
  {
   "cell_type": "code",
   "execution_count": 12,
   "id": "b6e5da84",
   "metadata": {},
   "outputs": [
    {
     "data": {
      "text/markdown": [
       "**Initial State**"
      ],
      "text/plain": [
       "<IPython.core.display.Markdown object>"
      ]
     },
     "metadata": {},
     "output_type": "display_data"
    },
    {
     "data": {
      "text/latex": [
       "$$ |0\\rangle$$"
      ],
      "text/plain": [
       "<IPython.core.display.Latex object>"
      ]
     },
     "metadata": {},
     "output_type": "display_data"
    },
    {
     "data": {
      "text/markdown": [
       "**Final State**"
      ],
      "text/plain": [
       "<IPython.core.display.Markdown object>"
      ]
     },
     "metadata": {},
     "output_type": "display_data"
    },
    {
     "data": {
      "text/latex": [
       "$$ |0\\rangle$$"
      ],
      "text/plain": [
       "<IPython.core.display.Latex object>"
      ]
     },
     "metadata": {},
     "output_type": "display_data"
    },
    {
     "name": "stdout",
     "output_type": "stream",
     "text": [
      "\n",
      "\n"
     ]
    },
    {
     "data": {
      "text/markdown": [
       "**Initial State**"
      ],
      "text/plain": [
       "<IPython.core.display.Markdown object>"
      ]
     },
     "metadata": {},
     "output_type": "display_data"
    },
    {
     "data": {
      "text/latex": [
       "$$ |1\\rangle$$"
      ],
      "text/plain": [
       "<IPython.core.display.Latex object>"
      ]
     },
     "metadata": {},
     "output_type": "display_data"
    },
    {
     "data": {
      "text/markdown": [
       "**Final State**"
      ],
      "text/plain": [
       "<IPython.core.display.Markdown object>"
      ]
     },
     "metadata": {},
     "output_type": "display_data"
    },
    {
     "data": {
      "text/latex": [
       "$$- |1\\rangle$$"
      ],
      "text/plain": [
       "<IPython.core.display.Latex object>"
      ]
     },
     "metadata": {},
     "output_type": "display_data"
    }
   ],
   "source": [
    "simulating_SingleQubit(0, qc) # 0 as initial state\n",
    "print('\\n')\n",
    "simulating_SingleQubit(1, qc) # 1 as initial state"
   ]
  },
  {
   "cell_type": "markdown",
   "id": "2953ce2f",
   "metadata": {},
   "source": [
    "## 2.4 Clifford Gates\n",
    "\n",
    "Clifford gates are a set of quantum gates that belong to a larger group called the Clifford group. These gates are particularly important in quantum error correction and fault-tolerant quantum computation due to their ability to preserve certain properties of quantum states. One commonly used Clifford gate is the Clifford-Hadamard gate.\n",
    "\n",
    "### 2.4.1 Clifford-Hadamard Gate\n",
    "\n",
    "The Clifford-Hadamard gate, often referred to as the Hadamard gate, is a fundamental gate in quantum computing. It is represented by the following matrix:\n",
    "\n",
    "$$\n",
    "H = \\frac{1}{\\sqrt{2}} \\begin{bmatrix} 1 & 1 \\\\ 1 & -1 \\end{bmatrix}\n",
    "$$\n",
    "\n",
    "The Hadamard gate acts on a single qubit and transforms the basis states |0⟩ and |1⟩ into superposition states. It effectively creates an equal superposition of both basis states. The action of the Hadamard gate on a qubit in state $|\\psi\\rangle$ is given by:\n",
    "\n",
    "$$\n",
    "H |\\psi\\rangle = \\frac{1}{\\sqrt{2}} \\begin{bmatrix} 1 & 1 \\\\ 1 & -1 \\end{bmatrix} \\begin{bmatrix} \\alpha \\\\ \\beta \\end{bmatrix} = \\frac{1}{\\sqrt{2}} \\begin{bmatrix} \\alpha + \\beta \\\\ \\alpha - \\beta \\end{bmatrix}\n",
    "$$\n",
    "\n",
    "Where $|\\psi\\rangle = \\begin{bmatrix} \\alpha \\\\ \\beta \\end{bmatrix}$ represents the quantum state of the qubit.\n",
    "\n",
    "The Hadamard gate is particularly useful for creating superposition states, which are crucial in many quantum algorithms such as the quantum Fourier transform and the quantum phase estimation algorithm. It also plays a significant role in quantum error correction codes.\n",
    "\n",
    "The Clifford-Hadamard gate is a unitary gate, meaning it is reversible and preserves the normalization of the quantum state. It is one of the building blocks for constructing more complex quantum circuits and operations."
   ]
  },
  {
   "cell_type": "code",
   "execution_count": 13,
   "id": "59f8724c",
   "metadata": {},
   "outputs": [
    {
     "data": {
      "image/png": "[encoded data removed]",
      "text/plain": [
       "<Figure size 146.652x84.28 with 1 Axes>"
      ]
     },
     "metadata": {},
     "output_type": "display_data"
    },
    {
     "name": "stdout",
     "output_type": "stream",
     "text": [
      "Complete Matrix: \n"
     ]
    },
    {
     "data": {
      "text/plain": [
       "array([[ 0.707+0.j,  0.707-0.j],\n",
       "       [ 0.707+0.j, -0.707+0.j]])"
      ]
     },
     "metadata": {},
     "output_type": "display_data"
    }
   ],
   "source": [
    "# Circuit Design\n",
    "qc = QuantumCircuit(QuantumRegister(1))\n",
    "\n",
    "# Pauli-X gate\n",
    "qc.h(qubit = 0)\n",
    "\n",
    "display_circuit(qc)"
   ]
  },
  {
   "cell_type": "code",
   "execution_count": 14,
   "id": "b6d0c2a4",
   "metadata": {},
   "outputs": [
    {
     "data": {
      "text/markdown": [
       "**Initial State**"
      ],
      "text/plain": [
       "<IPython.core.display.Markdown object>"
      ]
     },
     "metadata": {},
     "output_type": "display_data"
    },
    {
     "data": {
      "text/latex": [
       "$$ |0\\rangle$$"
      ],
      "text/plain": [
       "<IPython.core.display.Latex object>"
      ]
     },
     "metadata": {},
     "output_type": "display_data"
    },
    {
     "data": {
      "text/markdown": [
       "**Final State**"
      ],
      "text/plain": [
       "<IPython.core.display.Markdown object>"
      ]
     },
     "metadata": {},
     "output_type": "display_data"
    },
    {
     "data": {
      "text/latex": [
       "$$\\frac{\\sqrt{2}}{2} |0\\rangle+\\frac{\\sqrt{2}}{2} |1\\rangle$$"
      ],
      "text/plain": [
       "<IPython.core.display.Latex object>"
      ]
     },
     "metadata": {},
     "output_type": "display_data"
    },
    {
     "name": "stdout",
     "output_type": "stream",
     "text": [
      "\n",
      "\n"
     ]
    },
    {
     "data": {
      "text/markdown": [
       "**Initial State**"
      ],
      "text/plain": [
       "<IPython.core.display.Markdown object>"
      ]
     },
     "metadata": {},
     "output_type": "display_data"
    },
    {
     "data": {
      "text/latex": [
       "$$ |1\\rangle$$"
      ],
      "text/plain": [
       "<IPython.core.display.Latex object>"
      ]
     },
     "metadata": {},
     "output_type": "display_data"
    },
    {
     "data": {
      "text/markdown": [
       "**Final State**"
      ],
      "text/plain": [
       "<IPython.core.display.Markdown object>"
      ]
     },
     "metadata": {},
     "output_type": "display_data"
    },
    {
     "data": {
      "text/latex": [
       "$$\\frac{\\sqrt{2}}{2} |0\\rangle- \\frac{\\sqrt{2}}{2} |1\\rangle$$"
      ],
      "text/plain": [
       "<IPython.core.display.Latex object>"
      ]
     },
     "metadata": {},
     "output_type": "display_data"
    }
   ],
   "source": [
    "simulating_SingleQubit(0, qc) # 0 as initial state\n",
    "print('\\n')\n",
    "simulating_SingleQubit(1, qc) # 1 as initial state"
   ]
  },
  {
   "cell_type": "markdown",
   "id": "8c01e4da",
   "metadata": {},
   "source": [
    "### 2.4.2 Clifford-S Gate\n",
    "\n",
    "The Clifford-S gate, also known as the S gate or the phase gate, is another member of the Clifford gate family. It introduces a phase shift to the quantum state of a qubit. Mathematically, the Clifford-S gate is represented by the following matrix:\n",
    "\n",
    "$$\n",
    "S = \\begin{bmatrix} 1 & 0 \\\\ 0 & i \\end{bmatrix}\n",
    "$$\n",
    "\n",
    "The Clifford-S gate acts on a qubit in state $|\\psi\\rangle$ and applies a phase shift to the state. The action of the Clifford-S gate on a qubit in state $|\\psi\\rangle$ is given by:\n",
    "\n",
    "$$\n",
    "S |\\psi\\rangle = \\begin{bmatrix} 1 & 0 \\\\ 0 & i \\end{bmatrix} \\begin{bmatrix} \\alpha \\\\ \\beta \\end{bmatrix} = \\begin{bmatrix} \\alpha \\\\ i\\beta \\end{bmatrix}\n",
    "$$\n",
    "\n",
    "Where $|\\psi\\rangle = \\begin{bmatrix} \\alpha \\\\ \\beta \\end{bmatrix}$ represents the quantum state of the qubit.\n",
    "\n",
    "The Clifford-S gate introduces a phase shift of π/2 to the |1⟩ state of the qubit, while leaving the |0⟩ state unchanged. It is a fundamental gate in quantum algorithms, especially in quantum phase estimation and quantum state preparation.\n",
    "\n",
    "The Clifford-S gate is a unitary gate and preserves the normalization and reversibility of the quantum state. It is an essential component in the construction of various quantum circuits and operations, and it plays a crucial role in the implementation of quantum error correction codes."
   ]
  },
  {
   "cell_type": "code",
   "execution_count": 15,
   "id": "257316e6",
   "metadata": {},
   "outputs": [
    {
     "data": {
      "image/png": "[encoded data removed]",
      "text/plain": [
       "<Figure size 159.633x84.28 with 1 Axes>"
      ]
     },
     "metadata": {},
     "output_type": "display_data"
    },
    {
     "name": "stdout",
     "output_type": "stream",
     "text": [
      "Complete Matrix: \n"
     ]
    },
    {
     "data": {
      "text/plain": [
       "array([[1.+0.j, 0.+0.j],\n",
       "       [0.+0.j, 0.+1.j]])"
      ]
     },
     "metadata": {},
     "output_type": "display_data"
    }
   ],
   "source": [
    "# Circuit Design\n",
    "qc = QuantumCircuit(QuantumRegister(1))\n",
    "\n",
    "# Pauli-X gate\n",
    "qc.s(qubit = 0)\n",
    "\n",
    "display_circuit(qc)"
   ]
  },
  {
   "cell_type": "code",
   "execution_count": 16,
   "id": "a38983ea",
   "metadata": {},
   "outputs": [
    {
     "data": {
      "text/markdown": [
       "**Initial State**"
      ],
      "text/plain": [
       "<IPython.core.display.Markdown object>"
      ]
     },
     "metadata": {},
     "output_type": "display_data"
    },
    {
     "data": {
      "text/latex": [
       "$$ |0\\rangle$$"
      ],
      "text/plain": [
       "<IPython.core.display.Latex object>"
      ]
     },
     "metadata": {},
     "output_type": "display_data"
    },
    {
     "data": {
      "text/markdown": [
       "**Final State**"
      ],
      "text/plain": [
       "<IPython.core.display.Markdown object>"
      ]
     },
     "metadata": {},
     "output_type": "display_data"
    },
    {
     "data": {
      "text/latex": [
       "$$ |0\\rangle$$"
      ],
      "text/plain": [
       "<IPython.core.display.Latex object>"
      ]
     },
     "metadata": {},
     "output_type": "display_data"
    },
    {
     "name": "stdout",
     "output_type": "stream",
     "text": [
      "\n",
      "\n"
     ]
    },
    {
     "data": {
      "text/markdown": [
       "**Initial State**"
      ],
      "text/plain": [
       "<IPython.core.display.Markdown object>"
      ]
     },
     "metadata": {},
     "output_type": "display_data"
    },
    {
     "data": {
      "text/latex": [
       "$$ |1\\rangle$$"
      ],
      "text/plain": [
       "<IPython.core.display.Latex object>"
      ]
     },
     "metadata": {},
     "output_type": "display_data"
    },
    {
     "data": {
      "text/markdown": [
       "**Final State**"
      ],
      "text/plain": [
       "<IPython.core.display.Markdown object>"
      ]
     },
     "metadata": {},
     "output_type": "display_data"
    },
    {
     "data": {
      "text/latex": [
       "$$i |1\\rangle$$"
      ],
      "text/plain": [
       "<IPython.core.display.Latex object>"
      ]
     },
     "metadata": {},
     "output_type": "display_data"
    }
   ],
   "source": [
    "simulating_SingleQubit(0, qc) # 0 as initial state\n",
    "print('\\n')\n",
    "simulating_SingleQubit(1, qc) # 1 as initial state"
   ]
  },
  {
   "cell_type": "markdown",
   "id": "26341970",
   "metadata": {},
   "source": [
    "### 2.4.3 Clifford-S-dagger Gate\n",
    "\n",
    "The Clifford-S-dagger gate, also known as the S-dagger gate or the conjugate of the S gate, is the inverse of the Clifford-S gate. It applies a phase shift in the opposite direction compared to the Clifford-S gate. Mathematically, the Clifford-S-dagger gate is represented by the following matrix:\n",
    "\n",
    "$$\n",
    "S^\\dagger = \\begin{bmatrix} 1 & 0 \\\\ 0 & -i \\end{bmatrix}\n",
    "$$\n",
    "\n",
    "The Clifford-S-dagger gate acts on a qubit in state $|\\psi\\rangle$ and applies a phase shift in the opposite direction compared to the Clifford-S gate. The action of the Clifford-S-dagger gate on a qubit in state $|\\psi\\rangle$ is given by:\n",
    "\n",
    "$$\n",
    "S^\\dagger |\\psi\\rangle = \\begin{bmatrix} 1 & 0 \\\\ 0 & -i \\end{bmatrix} \\begin{bmatrix} \\alpha \\\\ \\beta \\end{bmatrix} = \\begin{bmatrix} \\alpha \\\\ -i\\beta \\end{bmatrix}\n",
    "$$\n",
    "\n",
    "Where $|\\psi\\rangle = \\begin{bmatrix} \\alpha \\\\ \\beta \\end{bmatrix}$ represents the quantum state of the qubit.\n",
    "\n",
    "The Clifford-S-dagger gate introduces a phase shift of -π/2 to the |1⟩ state of the qubit, while leaving the |0⟩ state unchanged. It is the conjugate transpose of the Clifford-S gate, and applying the Clifford-S gate followed by the Clifford-S-dagger gate results in an identity operation.\n",
    "\n",
    "Similar to the Clifford-S gate, the Clifford-S-dagger gate is a unitary gate, preserving the normalization and reversibility of the quantum state. It is an important component in various quantum algorithms and circuits, and it plays a significant role in quantum error correction codes."
   ]
  },
  {
   "cell_type": "code",
   "execution_count": 17,
   "id": "358ccc93",
   "metadata": {},
   "outputs": [
    {
     "data": {
      "image/png": "[encoded data removed]",
      "text/plain": [
       "<Figure size 159.923x84.28 with 1 Axes>"
      ]
     },
     "metadata": {},
     "output_type": "display_data"
    },
    {
     "name": "stdout",
     "output_type": "stream",
     "text": [
      "Complete Matrix: \n"
     ]
    },
    {
     "data": {
      "text/plain": [
       "array([[1.+0.j, 0.+0.j],\n",
       "       [0.+0.j, 0.-1.j]])"
      ]
     },
     "metadata": {},
     "output_type": "display_data"
    }
   ],
   "source": [
    "# Circuit Design\n",
    "qc = QuantumCircuit(QuantumRegister(1))\n",
    "\n",
    "# Pauli-X gate\n",
    "qc.sdg(qubit = 0)\n",
    "\n",
    "display_circuit(qc)"
   ]
  },
  {
   "cell_type": "code",
   "execution_count": 18,
   "id": "08717883",
   "metadata": {},
   "outputs": [
    {
     "data": {
      "text/markdown": [
       "**Initial State**"
      ],
      "text/plain": [
       "<IPython.core.display.Markdown object>"
      ]
     },
     "metadata": {},
     "output_type": "display_data"
    },
    {
     "data": {
      "text/latex": [
       "$$ |0\\rangle$$"
      ],
      "text/plain": [
       "<IPython.core.display.Latex object>"
      ]
     },
     "metadata": {},
     "output_type": "display_data"
    },
    {
     "data": {
      "text/markdown": [
       "**Final State**"
      ],
      "text/plain": [
       "<IPython.core.display.Markdown object>"
      ]
     },
     "metadata": {},
     "output_type": "display_data"
    },
    {
     "data": {
      "text/latex": [
       "$$ |0\\rangle$$"
      ],
      "text/plain": [
       "<IPython.core.display.Latex object>"
      ]
     },
     "metadata": {},
     "output_type": "display_data"
    },
    {
     "name": "stdout",
     "output_type": "stream",
     "text": [
      "\n",
      "\n"
     ]
    },
    {
     "data": {
      "text/markdown": [
       "**Initial State**"
      ],
      "text/plain": [
       "<IPython.core.display.Markdown object>"
      ]
     },
     "metadata": {},
     "output_type": "display_data"
    },
    {
     "data": {
      "text/latex": [
       "$$ |1\\rangle$$"
      ],
      "text/plain": [
       "<IPython.core.display.Latex object>"
      ]
     },
     "metadata": {},
     "output_type": "display_data"
    },
    {
     "data": {
      "text/markdown": [
       "**Final State**"
      ],
      "text/plain": [
       "<IPython.core.display.Markdown object>"
      ]
     },
     "metadata": {},
     "output_type": "display_data"
    },
    {
     "data": {
      "text/latex": [
       "$$- i |1\\rangle$$"
      ],
      "text/plain": [
       "<IPython.core.display.Latex object>"
      ]
     },
     "metadata": {},
     "output_type": "display_data"
    }
   ],
   "source": [
    "simulating_SingleQubit(0, qc) # 0 as initial state\n",
    "print('\\n')\n",
    "simulating_SingleQubit(1, qc) # 1 as initial state"
   ]
  },
  {
   "cell_type": "markdown",
   "id": "20cead7b",
   "metadata": {},
   "source": [
    "## 2.5 U Gate\n",
    "\n",
    "The U gate, also known as the arbitrary single-qubit gate or the general single-qubit gate, is a versatile gate in quantum computing. It represents a unitary transformation that can be applied to a single qubit to manipulate its quantum state. The U gate is commonly represented by a matrix in the following form:\n",
    "\n",
    "$$\n",
    "U = \\begin{bmatrix} e^{i\\lambda}\\cos(\\frac{\\theta}{2}) & -e^{i\\lambda}\\sin(\\frac{\\theta}{2}) \\\\ e^{i(\\phi+\\lambda)}\\sin(\\frac{\\theta}{2}) & e^{i(\\phi+2\\lambda)}\\cos(\\frac{\\theta}{2}) \\end{bmatrix}\n",
    "$$\n",
    "\n",
    "The U gate introduces three parameters: $\\theta$, $\\phi$, and $\\lambda$, which determine the specific transformation applied to the qubit. The action of the U gate on a qubit in state $|\\psi\\rangle$ is given by:\n",
    "\n",
    "$$\n",
    "U |\\psi\\rangle = \\begin{bmatrix} e^{i\\lambda}\\cos(\\frac{\\theta}{2}) & -e^{i\\lambda}\\sin(\\frac{\\theta}{2}) \\\\ e^{i(\\phi+\\lambda)}\\sin(\\frac{\\theta}{2}) & e^{i(\\phi+2\\lambda)}\\cos(\\frac{\\theta}{2}) \\end{bmatrix} \\begin{bmatrix} \\alpha \\\\ \\beta \\end{bmatrix}\n",
    "$$\n",
    "\n",
    "Where $|\\psi\\rangle = \\begin{bmatrix} \\alpha \\\\ \\beta \\end{bmatrix}$ represents the quantum state of the qubit.\n",
    "\n",
    "The U gate allows for arbitrary rotations and manipulations of the qubit state in the Bloch sphere. By varying the values of $\\theta$, $\\phi$, and $\\lambda$, different operations such as rotations, phase shifts, and superposition creations can be achieved. The U gate is a powerful tool in quantum algorithms, allowing for flexible and customizable quantum operations.\n",
    "\n",
    "It is worth noting that specific gates, such as the Hadamard gate and Pauli gates, can be derived from the U gate by setting appropriate parameter values. The U gate provides a generalized framework for single-qubit operations in quantum computing."
   ]
  },
  {
   "cell_type": "code",
   "execution_count": 19,
   "id": "80a7e28c",
   "metadata": {},
   "outputs": [
    {
     "data": {
      "image/png": "[encoded data removed]",
      "text/plain": [
       "<Figure size 220.123x84.28 with 1 Axes>"
      ]
     },
     "metadata": {},
     "output_type": "display_data"
    },
    {
     "name": "stdout",
     "output_type": "stream",
     "text": [
      "Complete Matrix: \n"
     ]
    },
    {
     "data": {
      "text/plain": [
       "array([[ 0.707+0.j   , -0.653-0.271j],\n",
       "       [ 0.5  +0.5j  ,  0.271+0.653j]])"
      ]
     },
     "metadata": {},
     "output_type": "display_data"
    }
   ],
   "source": [
    "# Circuit Design\n",
    "qc = QuantumCircuit(QuantumRegister(1))\n",
    "\n",
    "# Pauli-X gate\n",
    "qc.u(theta = pi/2, phi = pi/4, lam = pi/8 , qubit = 0)\n",
    "\n",
    "display_circuit(qc)"
   ]
  },
  {
   "cell_type": "code",
   "execution_count": 20,
   "id": "72d19090",
   "metadata": {},
   "outputs": [
    {
     "data": {
      "text/markdown": [
       "**Initial State**"
      ],
      "text/plain": [
       "<IPython.core.display.Markdown object>"
      ]
     },
     "metadata": {},
     "output_type": "display_data"
    },
    {
     "data": {
      "text/latex": [
       "$$ |0\\rangle$$"
      ],
      "text/plain": [
       "<IPython.core.display.Latex object>"
      ]
     },
     "metadata": {},
     "output_type": "display_data"
    },
    {
     "data": {
      "text/markdown": [
       "**Final State**"
      ],
      "text/plain": [
       "<IPython.core.display.Markdown object>"
      ]
     },
     "metadata": {},
     "output_type": "display_data"
    },
    {
     "data": {
      "text/latex": [
       "$$\\frac{\\sqrt{2}}{2} |0\\rangle+(\\frac{1}{2} + \\frac{i}{2}) |1\\rangle$$"
      ],
      "text/plain": [
       "<IPython.core.display.Latex object>"
      ]
     },
     "metadata": {},
     "output_type": "display_data"
    },
    {
     "name": "stdout",
     "output_type": "stream",
     "text": [
      "\n",
      "\n"
     ]
    },
    {
     "data": {
      "text/markdown": [
       "**Initial State**"
      ],
      "text/plain": [
       "<IPython.core.display.Markdown object>"
      ]
     },
     "metadata": {},
     "output_type": "display_data"
    },
    {
     "data": {
      "text/latex": [
       "$$ |1\\rangle$$"
      ],
      "text/plain": [
       "<IPython.core.display.Latex object>"
      ]
     },
     "metadata": {},
     "output_type": "display_data"
    },
    {
     "data": {
      "text/markdown": [
       "**Final State**"
      ],
      "text/plain": [
       "<IPython.core.display.Markdown object>"
      ]
     },
     "metadata": {},
     "output_type": "display_data"
    },
    {
     "data": {
      "text/latex": [
       "$$(-0.6532814824 - 0.2705980501 i) |0\\rangle+(0.2705980501 + 0.6532814824 i) |1\\rangle$$"
      ],
      "text/plain": [
       "<IPython.core.display.Latex object>"
      ]
     },
     "metadata": {},
     "output_type": "display_data"
    }
   ],
   "source": [
    "simulating_SingleQubit(0, qc) # 0 as initial state\n",
    "print('\\n')\n",
    "simulating_SingleQubit(1, qc) # 1 as initial state"
   ]
  },
  {
   "cell_type": "markdown",
   "id": "4e87bd48",
   "metadata": {},
   "source": [
    "## 2.6 P Gate\n",
    "\n",
    "The P gate, also known as the phase gate or the phase shift gate, is a single-qubit gate commonly used in quantum computing. It introduces a phase shift to the quantum state of a qubit. The P gate is represented by the following matrix:\n",
    "\n",
    "$$\n",
    "P = \\begin{bmatrix} 1 & 0 \\\\ 0 & e^{i\\phi} \\end{bmatrix}\n",
    "$$\n",
    "\n",
    "The P gate acts on a qubit in state $|\\psi\\rangle$ and applies a phase shift $e^{i\\phi}$ to the |1⟩ state of the qubit. The action of the P gate on a qubit in state $|\\psi\\rangle$ is given by:\n",
    "\n",
    "$$\n",
    "P |\\psi\\rangle = \\begin{bmatrix} 1 & 0 \\\\ 0 & e^{i\\phi} \\end{bmatrix} \\begin{bmatrix} \\alpha \\\\ \\beta \\end{bmatrix} = \\begin{bmatrix} \\alpha \\\\ e^{i\\phi}\\beta \\end{bmatrix}\n",
    "$$\n",
    "\n",
    "Where $|\\psi\\rangle = \\begin{bmatrix} \\alpha \\\\ \\beta \\end{bmatrix}$ represents the quantum state of the qubit.\n",
    "\n",
    "The P gate introduces a phase shift of $e^{i\\phi}$ to the |1⟩ state, while leaving the |0⟩ state unchanged. It allows for the precise control of phase information in quantum computations and algorithms. The phase shift introduced by the P gate is crucial in various quantum algorithms, such as quantum phase estimation and quantum Fourier transform.\n",
    "\n",
    "The P gate is a unitary gate, preserving the normalization and reversibility of the quantum state. It is a fundamental building block in quantum circuits and is often combined with other gates to perform more complex operations."
   ]
  },
  {
   "cell_type": "code",
   "execution_count": 21,
   "id": "51518eec",
   "metadata": {},
   "outputs": [
    {
     "data": {
      "image/png": "[encoded data removed]",
      "text/plain": [
       "<Figure size 159.778x84.28 with 1 Axes>"
      ]
     },
     "metadata": {},
     "output_type": "display_data"
    },
    {
     "name": "stdout",
     "output_type": "stream",
     "text": [
      "Complete Matrix: \n"
     ]
    },
    {
     "data": {
      "text/plain": [
       "array([[1.   +0.j   , 0.   +0.j   ],\n",
       "       [0.   +0.j   , 0.924+0.383j]])"
      ]
     },
     "metadata": {},
     "output_type": "display_data"
    }
   ],
   "source": [
    "# Circuit Design\n",
    "qc = QuantumCircuit(QuantumRegister(1))\n",
    "\n",
    "# Pauli-X gate\n",
    "qc.p(theta = pi/8, qubit = 0)\n",
    "\n",
    "display_circuit(qc)"
   ]
  },
  {
   "cell_type": "code",
   "execution_count": 22,
   "id": "ef4f50c6",
   "metadata": {},
   "outputs": [
    {
     "data": {
      "text/markdown": [
       "**Initial State**"
      ],
      "text/plain": [
       "<IPython.core.display.Markdown object>"
      ]
     },
     "metadata": {},
     "output_type": "display_data"
    },
    {
     "data": {
      "text/latex": [
       "$$ |0\\rangle$$"
      ],
      "text/plain": [
       "<IPython.core.display.Latex object>"
      ]
     },
     "metadata": {},
     "output_type": "display_data"
    },
    {
     "data": {
      "text/markdown": [
       "**Final State**"
      ],
      "text/plain": [
       "<IPython.core.display.Markdown object>"
      ]
     },
     "metadata": {},
     "output_type": "display_data"
    },
    {
     "data": {
      "text/latex": [
       "$$ |0\\rangle$$"
      ],
      "text/plain": [
       "<IPython.core.display.Latex object>"
      ]
     },
     "metadata": {},
     "output_type": "display_data"
    },
    {
     "name": "stdout",
     "output_type": "stream",
     "text": [
      "\n",
      "\n"
     ]
    },
    {
     "data": {
      "text/markdown": [
       "**Initial State**"
      ],
      "text/plain": [
       "<IPython.core.display.Markdown object>"
      ]
     },
     "metadata": {},
     "output_type": "display_data"
    },
    {
     "data": {
      "text/latex": [
       "$$ |1\\rangle$$"
      ],
      "text/plain": [
       "<IPython.core.display.Latex object>"
      ]
     },
     "metadata": {},
     "output_type": "display_data"
    },
    {
     "data": {
      "text/markdown": [
       "**Final State**"
      ],
      "text/plain": [
       "<IPython.core.display.Markdown object>"
      ]
     },
     "metadata": {},
     "output_type": "display_data"
    },
    {
     "data": {
      "text/latex": [
       "$$(0.9238795325 + 0.3826834324 i) |1\\rangle$$"
      ],
      "text/plain": [
       "<IPython.core.display.Latex object>"
      ]
     },
     "metadata": {},
     "output_type": "display_data"
    }
   ],
   "source": [
    "simulating_SingleQubit(0, qc) # 0 as initial state\n",
    "print('\\n')\n",
    "simulating_SingleQubit(1, qc) # 1 as initial state"
   ]
  }
 ],
 "metadata": {
  "kernelspec": {
   "display_name": "Python 3 (ipykernel)",
   "language": "python",
   "name": "python3"
  },
  "language_info": {
   "codemirror_mode": {
    "name": "ipython",
    "version": 3
   },
   "file_extension": ".py",
   "mimetype": "text/x-python",
   "name": "python",
   "nbconvert_exporter": "python",
   "pygments_lexer": "ipython3",
   "version": "3.9.12"
  }
 },
 "nbformat": 4,
 "nbformat_minor": 5
}
