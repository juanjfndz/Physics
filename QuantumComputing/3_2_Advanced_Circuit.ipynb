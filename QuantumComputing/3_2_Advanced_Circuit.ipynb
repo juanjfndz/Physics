{
 "cells": [
  {
   "cell_type": "markdown",
   "id": "5f1177e3",
   "metadata": {},
   "source": [
    "# 3.2 Advanced Circuits - Operators\n",
    "\n",
    "In quantum computing, operators play a crucial role in manipulating quantum states and performing computations. In this section, we will explore various aspects of operators and their application in quantum circuits using Qiskit."
   ]
  },
  {
   "cell_type": "code",
   "execution_count": 1,
   "id": "3438623a",
   "metadata": {},
   "outputs": [],
   "source": [
    "import numpy  as np\n",
    "import math   as mt\n",
    "import qiskit as qk\n",
    "\n",
    "from qiskit.quantum_info.operators import Operator\n",
    "from IPython.display import display, Markdown"
   ]
  },
  {
   "cell_type": "markdown",
   "id": "388bb240",
   "metadata": {},
   "source": [
    "## 3.1 Creating Operators\n",
    "Operators in quantum computing are represented by matrices that describe the transformation they apply to quantum states. We can create operators for various quantum gates and operations. Some commonly used gates include the Pauli gates (X, Y, Z), the Hadamard gate (H), and the controlled gates (CX, CZ). These gates can be represented as matrices."
   ]
  },
  {
   "cell_type": "code",
   "execution_count": 2,
   "id": "5154bdfb",
   "metadata": {},
   "outputs": [
    {
     "data": {
      "text/plain": [
       "array([[0.+0.j, 0.+0.j, 0.+0.j, 1.+0.j],\n",
       "       [0.+0.j, 0.+0.j, 1.+0.j, 0.+0.j],\n",
       "       [0.+0.j, 1.+0.j, 0.+0.j, 0.+0.j],\n",
       "       [1.+0.j, 0.+0.j, 0.+0.j, 0.+0.j]])"
      ]
     },
     "metadata": {},
     "output_type": "display_data"
    },
    {
     "name": "stdout",
     "output_type": "stream",
     "text": [
      "(Input_dim, Output_dim) = (4, 4)\n"
     ]
    }
   ],
   "source": [
    "Op_X = Operator([[0, 0, 0, 1], [0, 0, 1, 0], [0, 1, 0, 0], [1, 0, 0, 0]])\n",
    "display(Op_X.data)\n",
    "\n",
    "print('(Input_dim, Output_dim) =', Op_X.dim)"
   ]
  },
  {
   "cell_type": "markdown",
   "id": "da876e82",
   "metadata": {},
   "source": [
    "## 3.2 Circuits to Operators\n",
    "In Qiskit, we can convert quantum circuits into corresponding operators. This allows us to simulate the effect of the circuit using matrix multiplication. The resulting operator represents the transformation applied by the circuit on quantum states."
   ]
  },
  {
   "cell_type": "code",
   "execution_count": 3,
   "id": "134568a4",
   "metadata": {},
   "outputs": [
    {
     "data": {
      "text/plain": [
       "array([[ 0.70710678+0.j,  0.70710678+0.j,  0.        +0.j,\n",
       "         0.        +0.j],\n",
       "       [ 0.        +0.j,  0.        +0.j,  0.70710678+0.j,\n",
       "        -0.70710678+0.j],\n",
       "       [ 0.        +0.j,  0.        +0.j,  0.70710678+0.j,\n",
       "         0.70710678+0.j],\n",
       "       [ 0.70710678+0.j, -0.70710678+0.j,  0.        +0.j,\n",
       "         0.        +0.j]])"
      ]
     },
     "metadata": {},
     "output_type": "display_data"
    }
   ],
   "source": [
    "# Create an operator from a QuantumCircuit object\n",
    "n = 2\n",
    "qc = qk.QuantumCircuit(n)\n",
    "qc.h(0)\n",
    "for j in range(1, n):\n",
    "    qc.cx(j-1, j)\n",
    "\n",
    "# Convert circuit to an operator by implicit unitary simulation\n",
    "Op_qc = Operator(qc)\n",
    "display(Op_qc.data)"
   ]
  },
  {
   "cell_type": "markdown",
   "id": "06c19844",
   "metadata": {},
   "source": [
    "## 3.2 Operators in Circuits\n",
    "Operators can also be directly applied in quantum circuits. By adding operator gates to the circuit, we can implement complex operations that are not possible with single-qubit or two-qubit gates alone. This provides more flexibility and allows us to construct advanced quantum algorithms."
   ]
  },
  {
   "cell_type": "code",
   "execution_count": 4,
   "id": "a6e5d8bc",
   "metadata": {},
   "outputs": [
    {
     "data": {
      "text/plain": [
       "(2, 2)"
      ]
     },
     "metadata": {},
     "output_type": "display_data"
    },
    {
     "data": {
      "image/png": "[encoded data removed]",
      "text/plain": [
       "<Figure size 280.033x144.48 with 1 Axes>"
      ]
     },
     "metadata": {},
     "output_type": "display_data"
    }
   ],
   "source": [
    "# Create an operator\n",
    "OP = Operator([[0, 1], [1, 0]])\n",
    "display(OP.dim)\n",
    "\n",
    "# Add to a circuit\n",
    "# Build\n",
    "qb = qk.QuantumRegister(2)\n",
    "qc = qk.QuantumCircuit(qb)\n",
    "\n",
    "# Design\n",
    "qc.append(OP, [0])\n",
    "qc.cx(control_qubit = qb[1], target_qubit = qb[0])\n",
    "\n",
    "# Display\n",
    "display(qc.draw('mpl'))"
   ]
  },
  {
   "cell_type": "markdown",
   "id": "8c9d51e0",
   "metadata": {},
   "source": [
    "# 3.3 Combining Operators\n",
    "\n",
    "In quantum computing, we often need to combine multiple operators to perform more complex computations. There are several ways to combine operators: tensor product, tensor expansion, composition, and linear combination.\n",
    "\n",
    "### 3.3.1 Tensor Product\n",
    "The tensor product is a mathematical operation denoted by the symbol ⊗. It is used to combine operators or states from different subsystems. For two operators A and B, their tensor product A ⊗ B creates a new operator that acts on the joint Hilbert space of the subsystems. Mathematically, the tensor product of two operators A and B is defined as:\n",
    "\n",
    "$A \\otimes B = \\begin{bmatrix} a_{11}B & \\cdots & a_{1n}B \\\\ \\vdots & \\ddots & \\vdots \\\\ a_{m1}B & \\cdots & a_{mn}B \\end{bmatrix}$\n",
    "\n",
    "where A is an m×n matrix and B is a p×q matrix. The resulting operator A ⊗ B is an mp×nq matrix."
   ]
  },
  {
   "cell_type": "code",
   "execution_count": 5,
   "id": "9431f634",
   "metadata": {},
   "outputs": [
    {
     "data": {
      "text/plain": [
       "Operator([[0.+0.j, 0.+0.j, 1.+0.j, 0.+0.j],\n",
       "          [0.+0.j, 0.+0.j, 0.+0.j, 1.+0.j],\n",
       "          [1.+0.j, 0.+0.j, 0.+0.j, 0.+0.j],\n",
       "          [0.+0.j, 1.+0.j, 0.+0.j, 0.+0.j]],\n",
       "         input_dims=(2, 2), output_dims=(2, 2))"
      ]
     },
     "metadata": {},
     "output_type": "display_data"
    }
   ],
   "source": [
    "Op_1 = Operator([[0, 1], [1, 0]])\n",
    "Op_2 = Operator([[1, 0], [0, 1]])\n",
    "\n",
    "Op_3 = Op_1.tensor(Op_2)\n",
    "display(Op_3)"
   ]
  },
  {
   "cell_type": "markdown",
   "id": "d83e7ccc",
   "metadata": {},
   "source": [
    "\n",
    "### 3.3.2 Tensor Expansion\n",
    "Tensor expansion is the reverse operation of the tensor product. It allows us to separate a composite system's operator or state into individual subsystems. Mathematically, given an operator C that acts on the joint Hilbert space of subsystems A and B, we can express C as a tensor expansion:\n",
    "\n",
    "$C = \\sum_{i,j} c_{ij} (A_i \\otimes B_j)$\n",
    "\n",
    "where $A_i$ and $B_j$ are the individual operators acting on subsystems A and B, and $c_{ij}$ are coefficients."
   ]
  },
  {
   "cell_type": "code",
   "execution_count": 6,
   "id": "a501dea4",
   "metadata": {},
   "outputs": [
    {
     "data": {
      "text/plain": [
       "Operator([[0.+0.j, 1.+0.j, 0.+0.j, 0.+0.j],\n",
       "          [1.+0.j, 0.+0.j, 0.+0.j, 0.+0.j],\n",
       "          [0.+0.j, 0.+0.j, 0.+0.j, 1.+0.j],\n",
       "          [0.+0.j, 0.+0.j, 1.+0.j, 0.+0.j]],\n",
       "         input_dims=(2, 2), output_dims=(2, 2))"
      ]
     },
     "metadata": {},
     "output_type": "display_data"
    }
   ],
   "source": [
    "Op_1 = Operator([[0, 1], [1, 0]])\n",
    "Op_2 = Operator([[1, 0], [0, 1]])\n",
    "\n",
    "Op_3 = Op_1.expand(Op_2)\n",
    "display(Op_3)"
   ]
  },
  {
   "cell_type": "markdown",
   "id": "ef7d152f",
   "metadata": {},
   "source": [
    "### 3.3.3 Composition\n",
    "Composition refers to the sequential application of operators. When operators are composed, their effects are combined to form a single operator that represents the overall transformation. Mathematically, if we have two operators A and B, the composition A∘B represents the application of A followed by B. The composition operator is computed by matrix multiplication:\n",
    "\n",
    "$A \\circ B = A \\cdot B$\n",
    "\n",
    "where A and B are square matrices."
   ]
  },
  {
   "cell_type": "code",
   "execution_count": 7,
   "id": "71e1b374",
   "metadata": {},
   "outputs": [
    {
     "data": {
      "text/plain": [
       "Operator([[0.+0.j, 1.+0.j],\n",
       "          [1.+0.j, 0.+0.j]],\n",
       "         input_dims=(2,), output_dims=(2,))"
      ]
     },
     "metadata": {},
     "output_type": "display_data"
    }
   ],
   "source": [
    "Op_1 = Operator([[0, 1], [1, 0]])\n",
    "Op_2 = Operator([[1, 0], [0, 1]])\n",
    "\n",
    "Op_3 = Op_1.compose(Op_2)\n",
    "display(Op_3)"
   ]
  },
  {
   "cell_type": "markdown",
   "id": "e75aaf4d",
   "metadata": {},
   "source": [
    "### 3.3.4 Linear Combination\n",
    "Linear combination involves combining operators by taking a weighted sum of their individual effects. By assigning different coefficients to the operators and adding them together, we can create new operators that have unique properties or perform specific operations. Mathematically, the linear combination of operators A and B is given by:\n",
    "\n",
    "$C = \\alpha A + \\beta B$\n",
    "\n",
    "where α and β are coefficients."
   ]
  },
  {
   "cell_type": "code",
   "execution_count": 8,
   "id": "152a8e0a",
   "metadata": {},
   "outputs": [
    {
     "data": {
      "text/plain": [
       "Operator([[0.70710678+0.j, 0.70710678+0.j],\n",
       "          [0.70710678+0.j, 0.70710678+0.j]],\n",
       "         input_dims=(2,), output_dims=(2,))"
      ]
     },
     "metadata": {},
     "output_type": "display_data"
    }
   ],
   "source": [
    "Op_1 = Operator([[0, 1], [1, 0]])\n",
    "Op_2 = Operator([[1, 0], [0, 1]])\n",
    "\n",
    "Op_3 = mt.sqrt(2)/2*(Op_1 + Op_2)\n",
    "display(Op_3)"
   ]
  }
 ],
 "metadata": {
  "kernelspec": {
   "display_name": "Python 3 (ipykernel)",
   "language": "python",
   "name": "python3"
  },
  "language_info": {
   "codemirror_mode": {
    "name": "ipython",
    "version": 3
   },
   "file_extension": ".py",
   "mimetype": "text/x-python",
   "name": "python",
   "nbconvert_exporter": "python",
   "pygments_lexer": "ipython3",
   "version": "3.9.12"
  }
 },
 "nbformat": 4,
 "nbformat_minor": 5
}
