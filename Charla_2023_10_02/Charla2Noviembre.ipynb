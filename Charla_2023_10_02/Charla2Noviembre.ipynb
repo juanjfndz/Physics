{
  "nbformat": 4,
  "nbformat_minor": 0,
  "metadata": {
    "colab": {
      "provenance": []
    },
    "kernelspec": {
      "name": "python3",
      "display_name": "Python 3"
    },
    "language_info": {
      "name": "python"
    }
  },
  "cells": [
    {
      "cell_type": "markdown",
      "source": [
        "# Vector Transformaciones en Espacio-Tiempo Cuatridimensional\n",
        "\n",
        "En este análisis, empleamos `sympy`, una biblioteca de Python para cálculos simbólicos, para explorar transformaciones en un espacio-tiempo cuatridimensional.\n",
        "\n",
        "1. **Primera Transformación con la Matriz $\\Lambda$:**\n",
        "   - Definimos el vector $\\mathbf{A} = (A_t, A_x, A_y, A_z)$ en un espacio-tiempo cuatridimensional, donde \\(A_t\\) representa la componente temporal y $A_x, A_y, A_z$ las componentes espaciales.\n",
        "   - Aplicamos la matriz de transformación $\\Lambda$:\n",
        "$$\n",
        "     \\Lambda = \\begin{bmatrix}\n",
        "     1 & 0 & 0 & 0 \\\\\n",
        "     0 & \\cos(\\theta) & -\\sin(\\theta) & 0 \\\\\n",
        "     0 & \\sin(\\theta) & \\cos(\\theta) & 0 \\\\\n",
        "     0 & 0 & 0 & 1\n",
        "     \\end{bmatrix}\n",
        "$$\n",
        "   - El vector transformado es $\\mathbf{A'} = \\Lambda \\mathbf{A}$.\n",
        "\n",
        "2. **Segunda Transformación con la Matriz $T$:**\n",
        "   - Introducimos una segunda matriz de transformación $T$, que incorpora elementos complejos y raíces cuadradas:\n",
        "$$\n",
        "     T = \\begin{bmatrix}\n",
        "     1 & 0 & 0 & 0 \\\\\n",
        "     0 & \\frac{1}{\\sqrt{2}} & \\frac{i}{\\sqrt{2}} & 0 \\\\\n",
        "     0 & \\frac{1}{\\sqrt{2}} & -\\frac{i}{\\sqrt{2}} & 0 \\\\\n",
        "     0 & 0 & 0 & 1\n",
        "     \\end{bmatrix}\n",
        "$$\n",
        "\n",
        "   - Aplicamos $T$ al vector $\\mathbf{A'}$, obteniendo $\\mathbf{A'_{NB}} = T \\mathbf{A'}$.\n",
        "\n",
        "Estas transformaciones matemáticas nos permiten examinar cambios en el espacio-tiempo desde una perspectiva cuatridimensional, ofreciendo un vistazo a los complejos conceptos de la física moderna."
      ],
      "metadata": {
        "id": "uKOk40fLY0nU"
      }
    },
    {
      "cell_type": "code",
      "source": [
        "import sympy as sp\n",
        "\n",
        "# Habilitar la impresión bonita en LaTeX\n",
        "sp.init_printing(use_latex=True)\n",
        "\n",
        "# Definir el símbolo theta\n",
        "theta = sp.symbols('theta')\n",
        "\n",
        "# Definir la matriz de transformación Lambda\n",
        "Lambda = sp.Matrix([\n",
        "    [1, 0, 0, 0],\n",
        "    [0, sp.cos(theta), -sp.sin(theta), 0],\n",
        "    [0, sp.sin(theta), sp.cos(theta), 0],\n",
        "    [0, 0, 0, 1]\n",
        "])\n",
        "\n",
        "# Definir las componentes del vector A\n",
        "A_t, A_x, A_y, A_z = sp.symbols('A_t A_x A_y A_z')\n",
        "\n",
        "# Definir el vector A\n",
        "A = sp.Matrix([A_t, A_x, A_y, A_z])\n",
        "\n",
        "# Multiplicar el vector A por la matriz Lambda\n",
        "A_prime = sp.simplify(Lambda * A)\n",
        "\n",
        "# Convertir el resultado a LaTeX y mostrarlo\n",
        "A_prime_latex = sp.latex(A_prime)\n",
        "print(A_prime_latex, '\\n\\n')\n",
        "sp.pprint(A_prime)\n"
      ],
      "metadata": {
        "colab": {
          "base_uri": "https://localhost:8080/"
        },
        "id": "HiVHkjtNY2JN",
        "outputId": "cd6dd1a0-a652-4229-bfac-c0e1b505b279"
      },
      "execution_count": null,
      "outputs": [
        {
          "output_type": "stream",
          "name": "stdout",
          "text": [
            "\\left[\\begin{matrix}A_{t}\\\\A_{x} \\cos{\\left(\\theta \\right)} - A_{y} \\sin{\\left(\\theta \\right)}\\\\A_{x} \\sin{\\left(\\theta \\right)} + A_{y} \\cos{\\left(\\theta \\right)}\\\\A_{z}\\end{matrix}\\right] \n",
            "\n",
            "\n",
            "⎡          Aₜ          ⎤\n",
            "⎢                      ⎥\n",
            "⎢Aₓ⋅cos(θ) - A_y⋅sin(θ)⎥\n",
            "⎢                      ⎥\n",
            "⎢Aₓ⋅sin(θ) + A_y⋅cos(θ)⎥\n",
            "⎢                      ⎥\n",
            "⎣         A_z          ⎦\n"
          ]
        }
      ]
    },
    {
      "cell_type": "code",
      "source": [
        "# Definir la matriz de cambio de coordenadas\n",
        "T = sp.Matrix([\n",
        "    [1, 0, 0, 0],\n",
        "    [0, 1/sp.sqrt(2), sp.I/sp.sqrt(2), 0],\n",
        "    [0, 1/sp.sqrt(2), -sp.I/sp.sqrt(2), 0],\n",
        "    [0, 0, 0, 1]\n",
        "])\n",
        "\n",
        "# Aplicar la transformación\n",
        "A_prime_NB = sp.simplify(T * A_prime).rewrite(sp.exp).simplify()\n",
        "\n",
        "# Mostrar el resultado\n",
        "A_prime_NB_latex = sp.latex(A_prime)\n",
        "print(A_prime_NB_latex, '\\n\\n')\n",
        "sp.pprint(A_prime_NB)"
      ],
      "metadata": {
        "colab": {
          "base_uri": "https://localhost:8080/"
        },
        "id": "XTsgXkQqZFUB",
        "outputId": "9f212006-3129-45d1-de3e-20261555405e"
      },
      "execution_count": null,
      "outputs": [
        {
          "output_type": "stream",
          "name": "stdout",
          "text": [
            "\\left[\\begin{matrix}A_{t}\\\\A_{x} \\cos{\\left(\\theta \\right)} - A_{y} \\sin{\\left(\\theta \\right)}\\\\A_{x} \\sin{\\left(\\theta \\right)} + A_{y} \\cos{\\left(\\theta \\right)}\\\\A_{z}\\end{matrix}\\right] \n",
            "\n",
            "\n",
            "⎡         Aₜ          ⎤\n",
            "⎢                     ⎥\n",
            "⎢                 ⅈ⋅θ ⎥\n",
            "⎢√2⋅(Aₓ + ⅈ⋅A_y)⋅ℯ    ⎥\n",
            "⎢──────────────────── ⎥\n",
            "⎢         2           ⎥\n",
            "⎢                     ⎥\n",
            "⎢                 -ⅈ⋅θ⎥\n",
            "⎢√2⋅(Aₓ - ⅈ⋅A_y)⋅ℯ    ⎥\n",
            "⎢─────────────────────⎥\n",
            "⎢          2          ⎥\n",
            "⎢                     ⎥\n",
            "⎣         A_z         ⎦\n"
          ]
        }
      ]
    },
    {
      "cell_type": "markdown",
      "source": [
        "# matriz: Profundizando en Transformaciones Cuatridimensionales\n",
        "\n",
        "Continuamos nuestra exploración de las transformaciones en el espacio-tiempo cuatridimensional, esta vez aplicando nuestras técnicas a una nueva matriz, \\(g\\), que podría representar un tensor métrico en la relatividad general.\n",
        "\n",
        "1. **Transformación de la Matriz \\(g\\):**\n",
        "   - Definimos la matriz \\(g\\), una entidad cuatridimensional que lleva información fundamental sobre la estructura del espacio-tiempo:\n",
        "$$ g = \\begin{bmatrix}\n",
        "     g_{tt} & g_{tx} & g_{ty} & g_{tz} \\\\\n",
        "     g_{xt} & g_{xx} & g_{xy} & g_{xz} \\\\\n",
        "     g_{yt} & g_{yx} & g_{yy} & g_{yz} \\\\\n",
        "     g_{zt} & g_{zx} & g_{zy} & g_{zz}\n",
        "     \\end{bmatrix}\n",
        "$$\n",
        "\n",
        "   - Aplicamos la transformación con la matriz $\\Lambda$ a $g$, obteniendo $g_{transformada} = \\Lambda g \\Lambda^T$.\n",
        "\n",
        "2. **Aplicación de la Segunda Transformación con \\(T\\):**\n",
        "   - La matriz $T$, introducida anteriormente, se utiliza nuevamente para transformar $g_{transformada}$, resultando en $g_{transformada\\_NB} = T g_{transformada} T^T$.\n",
        "   - Esta transformación adicional nos permite examinar cómo las propiedades del espacio-tiempo se modifican bajo diferentes perspectivas y transformaciones.\n",
        "\n",
        "Estas operaciones profundizan nuestra comprensión del espacio-tiempo, demostrando la potencia de las matemáticas en la descripción del universo.\n",
        "\n",
        "\n",
        "$$ g = \\begin{bmatrix}\n",
        "     g_{tt} & g_{tx} & g_{ty} & g_{tz} \\\\\n",
        "     g_{xt} & g_{xx} & g_{xy} & g_{xz} \\\\\n",
        "     g_{yt} & g_{yx} & g_{yy} & g_{yz} \\\\\n",
        "     g_{zt} & g_{zx} & g_{zy} & g_{zz}\n",
        "     \\end{bmatrix}\n",
        "$$"
      ],
      "metadata": {
        "id": "_cnR_hO_Y2dz"
      }
    },
    {
      "cell_type": "code",
      "execution_count": null,
      "metadata": {
        "colab": {
          "base_uri": "https://localhost:8080/",
          "height": 176
        },
        "id": "B0zjJk4aIpy9",
        "outputId": "102b8a0d-7ded-4264-fa64-a816e179a01a"
      },
      "outputs": [
        {
          "output_type": "stream",
          "name": "stdout",
          "text": [
            "\\left[\\begin{matrix}g_{tt} & g_{tx} \\cos{\\left(\\theta \\right)} - g_{ty} \\sin{\\left(\\theta \\right)} & g_{tx} \\sin{\\left(\\theta \\right)} + g_{ty} \\cos{\\left(\\theta \\right)} & g_{tz}\\\\g_{xt} \\cos{\\left(\\theta \\right)} - g_{yt} \\sin{\\left(\\theta \\right)} & \\frac{g_{xx} \\cos{\\left(2 \\theta \\right)}}{2} + \\frac{g_{xx}}{2} - \\frac{g_{xy} \\sin{\\left(2 \\theta \\right)}}{2} - \\frac{g_{yx} \\sin{\\left(2 \\theta \\right)}}{2} - \\frac{g_{yy} \\cos{\\left(2 \\theta \\right)}}{2} + \\frac{g_{yy}}{2} & \\frac{g_{xx} \\sin{\\left(2 \\theta \\right)}}{2} + \\frac{g_{xy} \\cos{\\left(2 \\theta \\right)}}{2} + \\frac{g_{xy}}{2} + \\frac{g_{yx} \\cos{\\left(2 \\theta \\right)}}{2} - \\frac{g_{yx}}{2} - \\frac{g_{yy} \\sin{\\left(2 \\theta \\right)}}{2} & g_{xz} \\cos{\\left(\\theta \\right)} - g_{yz} \\sin{\\left(\\theta \\right)}\\\\g_{xt} \\sin{\\left(\\theta \\right)} + g_{yt} \\cos{\\left(\\theta \\right)} & \\frac{g_{xx} \\sin{\\left(2 \\theta \\right)}}{2} + \\frac{g_{xy} \\cos{\\left(2 \\theta \\right)}}{2} - \\frac{g_{xy}}{2} + \\frac{g_{yx} \\cos{\\left(2 \\theta \\right)}}{2} + \\frac{g_{yx}}{2} - \\frac{g_{yy} \\sin{\\left(2 \\theta \\right)}}{2} & - \\frac{g_{xx} \\cos{\\left(2 \\theta \\right)}}{2} + \\frac{g_{xx}}{2} + \\frac{g_{xy} \\sin{\\left(2 \\theta \\right)}}{2} + \\frac{g_{yx} \\sin{\\left(2 \\theta \\right)}}{2} + \\frac{g_{yy} \\cos{\\left(2 \\theta \\right)}}{2} + \\frac{g_{yy}}{2} & g_{xz} \\sin{\\left(\\theta \\right)} + g_{yz} \\cos{\\left(\\theta \\right)}\\\\g_{zt} & g_{zx} \\cos{\\left(\\theta \\right)} - g_{zy} \\sin{\\left(\\theta \\right)} & g_{zx} \\sin{\\left(\\theta \\right)} + g_{zy} \\cos{\\left(\\theta \\right)} & g_{zz}\\end{matrix}\\right] \n",
            "\n",
            "\n"
          ]
        },
        {
          "output_type": "execute_result",
          "data": {
            "text/plain": [
              "Matrix([\n",
              "[                             g_tt,                                                                       g_tx*cos(theta) - g_ty*sin(theta),                                                                        g_tx*sin(theta) + g_ty*cos(theta),                              g_tz],\n",
              "[g_xt*cos(theta) - g_yt*sin(theta), g_xx*cos(2*theta)/2 + g_xx/2 - g_xy*sin(2*theta)/2 - g_yx*sin(2*theta)/2 - g_yy*cos(2*theta)/2 + g_yy/2,  g_xx*sin(2*theta)/2 + g_xy*cos(2*theta)/2 + g_xy/2 + g_yx*cos(2*theta)/2 - g_yx/2 - g_yy*sin(2*theta)/2, g_xz*cos(theta) - g_yz*sin(theta)],\n",
              "[g_xt*sin(theta) + g_yt*cos(theta), g_xx*sin(2*theta)/2 + g_xy*cos(2*theta)/2 - g_xy/2 + g_yx*cos(2*theta)/2 + g_yx/2 - g_yy*sin(2*theta)/2, -g_xx*cos(2*theta)/2 + g_xx/2 + g_xy*sin(2*theta)/2 + g_yx*sin(2*theta)/2 + g_yy*cos(2*theta)/2 + g_yy/2, g_xz*sin(theta) + g_yz*cos(theta)],\n",
              "[                             g_zt,                                                                       g_zx*cos(theta) - g_zy*sin(theta),                                                                        g_zx*sin(theta) + g_zy*cos(theta),                              g_zz]])"
            ],
            "text/latex": "$\\displaystyle \\left[\\begin{matrix}g_{tt} & g_{tx} \\cos{\\left(\\theta \\right)} - g_{ty} \\sin{\\left(\\theta \\right)} & g_{tx} \\sin{\\left(\\theta \\right)} + g_{ty} \\cos{\\left(\\theta \\right)} & g_{tz}\\\\g_{xt} \\cos{\\left(\\theta \\right)} - g_{yt} \\sin{\\left(\\theta \\right)} & \\frac{g_{xx} \\cos{\\left(2 \\theta \\right)}}{2} + \\frac{g_{xx}}{2} - \\frac{g_{xy} \\sin{\\left(2 \\theta \\right)}}{2} - \\frac{g_{yx} \\sin{\\left(2 \\theta \\right)}}{2} - \\frac{g_{yy} \\cos{\\left(2 \\theta \\right)}}{2} + \\frac{g_{yy}}{2} & \\frac{g_{xx} \\sin{\\left(2 \\theta \\right)}}{2} + \\frac{g_{xy} \\cos{\\left(2 \\theta \\right)}}{2} + \\frac{g_{xy}}{2} + \\frac{g_{yx} \\cos{\\left(2 \\theta \\right)}}{2} - \\frac{g_{yx}}{2} - \\frac{g_{yy} \\sin{\\left(2 \\theta \\right)}}{2} & g_{xz} \\cos{\\left(\\theta \\right)} - g_{yz} \\sin{\\left(\\theta \\right)}\\\\g_{xt} \\sin{\\left(\\theta \\right)} + g_{yt} \\cos{\\left(\\theta \\right)} & \\frac{g_{xx} \\sin{\\left(2 \\theta \\right)}}{2} + \\frac{g_{xy} \\cos{\\left(2 \\theta \\right)}}{2} - \\frac{g_{xy}}{2} + \\frac{g_{yx} \\cos{\\left(2 \\theta \\right)}}{2} + \\frac{g_{yx}}{2} - \\frac{g_{yy} \\sin{\\left(2 \\theta \\right)}}{2} & - \\frac{g_{xx} \\cos{\\left(2 \\theta \\right)}}{2} + \\frac{g_{xx}}{2} + \\frac{g_{xy} \\sin{\\left(2 \\theta \\right)}}{2} + \\frac{g_{yx} \\sin{\\left(2 \\theta \\right)}}{2} + \\frac{g_{yy} \\cos{\\left(2 \\theta \\right)}}{2} + \\frac{g_{yy}}{2} & g_{xz} \\sin{\\left(\\theta \\right)} + g_{yz} \\cos{\\left(\\theta \\right)}\\\\g_{zt} & g_{zx} \\cos{\\left(\\theta \\right)} - g_{zy} \\sin{\\left(\\theta \\right)} & g_{zx} \\sin{\\left(\\theta \\right)} + g_{zy} \\cos{\\left(\\theta \\right)} & g_{zz}\\end{matrix}\\right]$"
          },
          "metadata": {},
          "execution_count": 35
        }
      ],
      "source": [
        "import sympy as sp\n",
        "\n",
        "# Habilitar la impresión bonita en LaTeX\n",
        "sp.init_printing(use_latex=True)\n",
        "\n",
        "# Definir el símbolo theta\n",
        "theta = sp.symbols('theta')\n",
        "\n",
        "# Definir la matriz de transformación Lambda\n",
        "Lambda = sp.Matrix([\n",
        "    [1, 0, 0, 0],\n",
        "    [0, sp.cos(theta), -sp.sin(theta), 0],\n",
        "    [0, sp.sin(theta), sp.cos(theta), 0],\n",
        "    [0, 0, 0, 1]\n",
        "])\n",
        "\n",
        "# Definir los símbolos para las componentes de la matriz g\n",
        "g_tt, g_tx, g_ty, g_tz, g_xt, g_xx, g_xy, g_xz, g_yt, g_yx, g_yy, g_yz, g_zt, g_zx, g_zy, g_zz = sp.symbols('g_tt g_tx g_ty g_tz g_xt g_xx g_xy g_xz g_yt g_yx g_yy g_yz g_zt g_zx g_zy g_zz')\n",
        "\n",
        "# Definir la matriz g\n",
        "g = sp.Matrix([\n",
        "    [g_tt, g_tx, g_ty, g_tz],\n",
        "    [g_xt, g_xx, g_xy, g_xz],\n",
        "    [g_yt, g_yx, g_yy, g_yz],\n",
        "    [g_zt, g_zx, g_zy, g_zz]\n",
        "])\n",
        "\n",
        "# Aplicar la transformación\n",
        "g_transformada = sp.simplify(Lambda * g * Lambda.transpose())\n",
        "\n",
        "# Convertir el resultado a LaTeX y mostrarlo\n",
        "g_transformada_latex = sp.latex(g_transformada)\n",
        "print(g_transformada_latex, '\\n\\n')\n",
        "\n",
        "g_transformada\n"
      ]
    },
    {
      "cell_type": "code",
      "source": [
        "# Definir la matriz de cambio de coordenadas\n",
        "T = sp.Matrix([\n",
        "    [1, 0, 0, 0],\n",
        "    [0, 1/sp.sqrt(2), sp.I/sp.sqrt(2), 0],\n",
        "    [0, 1/sp.sqrt(2), -sp.I/sp.sqrt(2), 0],\n",
        "    [0, 0, 0, 1]\n",
        "])\n",
        "\n",
        "g_transformada_NB = sp.simplify(T*g_transformada*T.T).rewrite(sp.exp).simplify()\n",
        "\n",
        "g_transformada_NB_latex = sp.latex(g_transformada_NB)\n",
        "print(g_transformada_NB_latex, '\\n\\n')\n",
        "\n",
        "g_transformada_NB"
      ],
      "metadata": {
        "colab": {
          "base_uri": "https://localhost:8080/",
          "height": 191
        },
        "id": "xsHVQ7AmXJiT",
        "outputId": "2eaf500b-5955-4741-d8cc-5161268aa482"
      },
      "execution_count": null,
      "outputs": [
        {
          "output_type": "stream",
          "name": "stdout",
          "text": [
            "\\left[\\begin{matrix}g_{tt} & \\frac{\\sqrt{2} \\left(g_{tx} + i g_{ty}\\right) e^{i \\theta}}{2} & \\frac{\\sqrt{2} \\left(g_{tx} - i g_{ty}\\right) e^{- i \\theta}}{2} & g_{tz}\\\\\\frac{\\sqrt{2} \\left(g_{xt} + i g_{yt}\\right) e^{i \\theta}}{2} & \\frac{\\left(g_{xx} + i g_{xy} + i g_{yx} - g_{yy}\\right) e^{2 i \\theta}}{2} & \\frac{g_{xx}}{2} - \\frac{i g_{xy}}{2} + \\frac{i g_{yx}}{2} + \\frac{g_{yy}}{2} & \\frac{\\sqrt{2} \\left(g_{xz} + i g_{yz}\\right) e^{i \\theta}}{2}\\\\\\frac{\\sqrt{2} \\left(g_{xt} - i g_{yt}\\right) e^{- i \\theta}}{2} & \\frac{g_{xx}}{2} + \\frac{i g_{xy}}{2} - \\frac{i g_{yx}}{2} + \\frac{g_{yy}}{2} & \\frac{\\left(g_{xx} - i g_{xy} - i g_{yx} - g_{yy}\\right) e^{- 2 i \\theta}}{2} & \\frac{\\sqrt{2} \\left(g_{xz} - i g_{yz}\\right) e^{- i \\theta}}{2}\\\\g_{zt} & \\frac{\\sqrt{2} \\left(g_{zx} + i g_{zy}\\right) e^{i \\theta}}{2} & \\frac{\\sqrt{2} \\left(g_{zx} - i g_{zy}\\right) e^{- i \\theta}}{2} & g_{zz}\\end{matrix}\\right] \n",
            "\n",
            "\n"
          ]
        },
        {
          "output_type": "execute_result",
          "data": {
            "text/plain": [
              "Matrix([\n",
              "[                                   g_tt,           sqrt(2)*(g_tx + I*g_ty)*exp(I*theta)/2,           sqrt(2)*(g_tx - I*g_ty)*exp(-I*theta)/2,                                    g_tz],\n",
              "[ sqrt(2)*(g_xt + I*g_yt)*exp(I*theta)/2, (g_xx + I*g_xy + I*g_yx - g_yy)*exp(2*I*theta)/2,             g_xx/2 - I*g_xy/2 + I*g_yx/2 + g_yy/2,  sqrt(2)*(g_xz + I*g_yz)*exp(I*theta)/2],\n",
              "[sqrt(2)*(g_xt - I*g_yt)*exp(-I*theta)/2,            g_xx/2 + I*g_xy/2 - I*g_yx/2 + g_yy/2, (g_xx - I*g_xy - I*g_yx - g_yy)*exp(-2*I*theta)/2, sqrt(2)*(g_xz - I*g_yz)*exp(-I*theta)/2],\n",
              "[                                   g_zt,           sqrt(2)*(g_zx + I*g_zy)*exp(I*theta)/2,           sqrt(2)*(g_zx - I*g_zy)*exp(-I*theta)/2,                                    g_zz]])"
            ],
            "text/latex": "$\\displaystyle \\left[\\begin{matrix}g_{tt} & \\frac{\\sqrt{2} \\left(g_{tx} + i g_{ty}\\right) e^{i \\theta}}{2} & \\frac{\\sqrt{2} \\left(g_{tx} - i g_{ty}\\right) e^{- i \\theta}}{2} & g_{tz}\\\\\\frac{\\sqrt{2} \\left(g_{xt} + i g_{yt}\\right) e^{i \\theta}}{2} & \\frac{\\left(g_{xx} + i g_{xy} + i g_{yx} - g_{yy}\\right) e^{2 i \\theta}}{2} & \\frac{g_{xx}}{2} - \\frac{i g_{xy}}{2} + \\frac{i g_{yx}}{2} + \\frac{g_{yy}}{2} & \\frac{\\sqrt{2} \\left(g_{xz} + i g_{yz}\\right) e^{i \\theta}}{2}\\\\\\frac{\\sqrt{2} \\left(g_{xt} - i g_{yt}\\right) e^{- i \\theta}}{2} & \\frac{g_{xx}}{2} + \\frac{i g_{xy}}{2} - \\frac{i g_{yx}}{2} + \\frac{g_{yy}}{2} & \\frac{\\left(g_{xx} - i g_{xy} - i g_{yx} - g_{yy}\\right) e^{- 2 i \\theta}}{2} & \\frac{\\sqrt{2} \\left(g_{xz} - i g_{yz}\\right) e^{- i \\theta}}{2}\\\\g_{zt} & \\frac{\\sqrt{2} \\left(g_{zx} + i g_{zy}\\right) e^{i \\theta}}{2} & \\frac{\\sqrt{2} \\left(g_{zx} - i g_{zy}\\right) e^{- i \\theta}}{2} & g_{zz}\\end{matrix}\\right]$"
          },
          "metadata": {},
          "execution_count": 39
        }
      ]
    },
    {
      "cell_type": "code",
      "source": [
        "g_trans_symm = 1/2*(g_transformada.T + g_transformada)\n",
        "g_trans_symm_NB = sp.simplify(T*g_trans_symm *T.T).rewrite(sp.exp).simplify()\n",
        "g_trans_symm_NB"
      ],
      "metadata": {
        "colab": {
          "base_uri": "https://localhost:8080/",
          "height": 103
        },
        "id": "9xh233tBbue7",
        "outputId": "576f384d-9866-4177-b6ea-bcc684315e9d"
      },
      "execution_count": null,
      "outputs": [
        {
          "output_type": "execute_result",
          "data": {
            "text/plain": [
              "Matrix([\n",
              "[                                                  1.0*g_tt, 0.25*sqrt(2)*(g_tx + I*g_ty + g_xt + I*g_yt)*exp(I*theta), 0.25*sqrt(2)*(g_tx - I*g_ty + g_xt - I*g_yt)*exp(-I*theta),                                        0.5*g_tz + 0.5*g_zt],\n",
              "[ 0.25*sqrt(2)*(g_tx + I*g_ty + g_xt + I*g_yt)*exp(I*theta),        0.5*(g_xx + I*g_xy + I*g_yx - g_yy)*exp(2*I*theta),                                        0.5*g_xx + 0.5*g_yy,  0.25*sqrt(2)*(g_xz + I*g_yz + g_zx + I*g_zy)*exp(I*theta)],\n",
              "[0.25*sqrt(2)*(g_tx - I*g_ty + g_xt - I*g_yt)*exp(-I*theta),                                       0.5*g_xx + 0.5*g_yy,        0.5*(g_xx - I*g_xy - I*g_yx - g_yy)*exp(-2*I*theta), 0.25*sqrt(2)*(g_xz - I*g_yz + g_zx - I*g_zy)*exp(-I*theta)],\n",
              "[                                       0.5*g_tz + 0.5*g_zt, 0.25*sqrt(2)*(g_xz + I*g_yz + g_zx + I*g_zy)*exp(I*theta), 0.25*sqrt(2)*(g_xz - I*g_yz + g_zx - I*g_zy)*exp(-I*theta),                                                   1.0*g_zz]])"
            ],
            "text/latex": "$\\displaystyle \\left[\\begin{matrix}1.0 g_{tt} & 0.25 \\sqrt{2} \\left(g_{tx} + i g_{ty} + g_{xt} + i g_{yt}\\right) e^{i \\theta} & 0.25 \\sqrt{2} \\left(g_{tx} - i g_{ty} + g_{xt} - i g_{yt}\\right) e^{- i \\theta} & 0.5 g_{tz} + 0.5 g_{zt}\\\\0.25 \\sqrt{2} \\left(g_{tx} + i g_{ty} + g_{xt} + i g_{yt}\\right) e^{i \\theta} & 0.5 \\left(g_{xx} + i g_{xy} + i g_{yx} - g_{yy}\\right) e^{2 i \\theta} & 0.5 g_{xx} + 0.5 g_{yy} & 0.25 \\sqrt{2} \\left(g_{xz} + i g_{yz} + g_{zx} + i g_{zy}\\right) e^{i \\theta}\\\\0.25 \\sqrt{2} \\left(g_{tx} - i g_{ty} + g_{xt} - i g_{yt}\\right) e^{- i \\theta} & 0.5 g_{xx} + 0.5 g_{yy} & 0.5 \\left(g_{xx} - i g_{xy} - i g_{yx} - g_{yy}\\right) e^{- 2 i \\theta} & 0.25 \\sqrt{2} \\left(g_{xz} - i g_{yz} + g_{zx} - i g_{zy}\\right) e^{- i \\theta}\\\\0.5 g_{tz} + 0.5 g_{zt} & 0.25 \\sqrt{2} \\left(g_{xz} + i g_{yz} + g_{zx} + i g_{zy}\\right) e^{i \\theta} & 0.25 \\sqrt{2} \\left(g_{xz} - i g_{yz} + g_{zx} - i g_{zy}\\right) e^{- i \\theta} & 1.0 g_{zz}\\end{matrix}\\right]$"
          },
          "metadata": {},
          "execution_count": 46
        }
      ]
    },
    {
      "cell_type": "code",
      "source": [
        "g_trans_anti = 1/2*(g_transformada.T - g_transformada)\n",
        "g_trans_anti_NB = sp.simplify(T*g_trans_anti *T.T).rewrite(sp.exp).simplify()\n",
        "g_trans_anti_NB"
      ],
      "metadata": {
        "colab": {
          "base_uri": "https://localhost:8080/",
          "height": 103
        },
        "id": "fy9PAzjrdkvW",
        "outputId": "d5fe3417-5795-41d1-f985-177b5ef9b004"
      },
      "execution_count": null,
      "outputs": [
        {
          "output_type": "execute_result",
          "data": {
            "text/plain": [
              "Matrix([\n",
              "[                                                         0, 0.25*sqrt(2)*(-g_tx - I*g_ty + g_xt + I*g_yt)*exp(I*theta), 0.25*sqrt(2)*(-g_tx + I*g_ty + g_xt - I*g_yt)*exp(-I*theta),                                        -0.5*g_tz + 0.5*g_zt],\n",
              "[ 0.25*sqrt(2)*(g_tx + I*g_ty - g_xt - I*g_yt)*exp(I*theta),                                                          0,                                         0.5*I*(g_xy - g_yx),  0.25*sqrt(2)*(-g_xz - I*g_yz + g_zx + I*g_zy)*exp(I*theta)],\n",
              "[0.25*sqrt(2)*(g_tx - I*g_ty - g_xt + I*g_yt)*exp(-I*theta),                                       0.5*I*(-g_xy + g_yx),                                                           0, 0.25*sqrt(2)*(-g_xz + I*g_yz + g_zx - I*g_zy)*exp(-I*theta)],\n",
              "[                                       0.5*g_tz - 0.5*g_zt,  0.25*sqrt(2)*(g_xz + I*g_yz - g_zx - I*g_zy)*exp(I*theta),  0.25*sqrt(2)*(g_xz - I*g_yz - g_zx + I*g_zy)*exp(-I*theta),                                                           0]])"
            ],
            "text/latex": "$\\displaystyle \\left[\\begin{matrix}0 & 0.25 \\sqrt{2} \\left(- g_{tx} - i g_{ty} + g_{xt} + i g_{yt}\\right) e^{i \\theta} & 0.25 \\sqrt{2} \\left(- g_{tx} + i g_{ty} + g_{xt} - i g_{yt}\\right) e^{- i \\theta} & - 0.5 g_{tz} + 0.5 g_{zt}\\\\0.25 \\sqrt{2} \\left(g_{tx} + i g_{ty} - g_{xt} - i g_{yt}\\right) e^{i \\theta} & 0 & 0.5 i \\left(g_{xy} - g_{yx}\\right) & 0.25 \\sqrt{2} \\left(- g_{xz} - i g_{yz} + g_{zx} + i g_{zy}\\right) e^{i \\theta}\\\\0.25 \\sqrt{2} \\left(g_{tx} - i g_{ty} - g_{xt} + i g_{yt}\\right) e^{- i \\theta} & 0.5 i \\left(- g_{xy} + g_{yx}\\right) & 0 & 0.25 \\sqrt{2} \\left(- g_{xz} + i g_{yz} + g_{zx} - i g_{zy}\\right) e^{- i \\theta}\\\\0.5 g_{tz} - 0.5 g_{zt} & 0.25 \\sqrt{2} \\left(g_{xz} + i g_{yz} - g_{zx} - i g_{zy}\\right) e^{i \\theta} & 0.25 \\sqrt{2} \\left(g_{xz} - i g_{yz} - g_{zx} + i g_{zy}\\right) e^{- i \\theta} & 0\\end{matrix}\\right]$"
          },
          "metadata": {},
          "execution_count": 47
        }
      ]
    }
  ]
}